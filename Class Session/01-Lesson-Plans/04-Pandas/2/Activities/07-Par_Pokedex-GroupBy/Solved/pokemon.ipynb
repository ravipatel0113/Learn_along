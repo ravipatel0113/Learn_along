{
 "cells": [
  {
   "cell_type": "code",
   "execution_count": null,
   "metadata": {},
   "outputs": [],
   "source": [
    "# Dependencies\n",
    "import pandas as pd\n",
    "import numpy as np"
   ]
  },
  {
   "cell_type": "code",
   "execution_count": null,
   "metadata": {},
   "outputs": [],
   "source": [
    "# Save file path to variable\n",
    "pokemon_csv = \"Resources/Pokemon.csv\""
   ]
  },
  {
   "cell_type": "code",
   "execution_count": null,
   "metadata": {},
   "outputs": [],
   "source": [
    "# Read with Pandas\n",
    "pokemon_df = pd.read_csv(pokemon_csv)\n",
    "pokemon_df.head()"
   ]
  },
  {
   "cell_type": "code",
   "execution_count": null,
   "metadata": {},
   "outputs": [],
   "source": [
    "# Extract the following columns: \"Type 1\", \"HP\", \"Attack\", \"Sp. Atk\", \"Sp. Def\", and \"Speed\"\n",
    "pokemon_type_df = pokemon_df[[\"Type 1\", \"HP\", \"Attack\",\n",
    "                           \"Defense\", \"Sp. Atk\", \"Sp. Def\", \"Speed\"]]\n",
    "pokemon_type_df.head()"
   ]
  },
  {
   "cell_type": "code",
   "execution_count": null,
   "metadata": {},
   "outputs": [],
   "source": [
    "# Create a dataframe of the average stats for each type of pokemon.\n",
    "pokemon_group = pokemon_type_df.groupby([\"Type 1\"])\n",
    "\n",
    "pokemon_comparison_df = pokemon_group.mean()\n",
    "pokemon_comparison_df"
   ]
  },
  {
   "cell_type": "code",
   "execution_count": null,
   "metadata": {},
   "outputs": [],
   "source": [
    "# Calculate the total power level of each type of pokemon by summing all of the stats together.\n",
    "# Place the results into a new column.\n",
    "pokemon_comparison_df[\"Total\"] = pokemon_comparison_df.sum(axis=1)\n",
    "\n",
    "pokemon_comparison_df[\"Total\"]"
   ]
  },
  {
   "cell_type": "code",
   "execution_count": null,
   "metadata": {},
   "outputs": [],
   "source": [
    "# Bonus: Sort the table by strongest type and export the resulting table to a new CSV.\n",
    "strongest_pokemon_df = pokemon_comparison_df.sort_values([\"Total\"], ascending=False)\n",
    "strongest_pokemon_df.to_csv(\"output/pokemon_rankings.csv\", index=True)"
   ]
  }
 ],
 "metadata": {
  "anaconda-cloud": {},
  "kernelspec": {
   "display_name": "Python 3",
   "language": "python",
   "name": "python3"
  },
  "language_info": {
   "codemirror_mode": {
    "name": "ipython",
    "version": 3
   },
   "file_extension": ".py",
   "mimetype": "text/x-python",
   "name": "python",
   "nbconvert_exporter": "python",
   "pygments_lexer": "ipython3",
   "version": "3.6.9"
  }
 },
 "nbformat": 4,
 "nbformat_minor": 2
}
