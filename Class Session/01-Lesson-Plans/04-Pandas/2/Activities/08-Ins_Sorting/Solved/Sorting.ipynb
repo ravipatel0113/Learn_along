{
 "cells": [
  {
   "cell_type": "code",
   "execution_count": null,
   "metadata": {},
   "outputs": [],
   "source": [
    "# Import Dependencies\n",
    "import pandas as pd"
   ]
  },
  {
   "cell_type": "code",
   "execution_count": null,
   "metadata": {},
   "outputs": [],
   "source": [
    "csv_path = \"Resources/Happiness_2017.csv\"\n",
    "happiness_df = pd.read_csv(csv_path)\n",
    "happiness_df.head()"
   ]
  },
  {
   "cell_type": "code",
   "execution_count": null,
   "metadata": {},
   "outputs": [],
   "source": [
    "# Sorting the DataFrame based on \"Freedom\" column\n",
    "# Will sort from lowest to highest if no other parameter is passed\n",
    "freedom_df = happiness_df.sort_values(\"Freedom\")\n",
    "freedom_df.head()"
   ]
  },
  {
   "cell_type": "code",
   "execution_count": null,
   "metadata": {},
   "outputs": [],
   "source": [
    "# To sort from highest to lowest, ascending=False must be passed in\n",
    "freedom_df = happiness_df.sort_values(\"Freedom\", ascending=False)\n",
    "freedom_df.head()"
   ]
  },
  {
   "cell_type": "code",
   "execution_count": null,
   "metadata": {},
   "outputs": [],
   "source": [
    "# It is possible to sort based upon multiple columns\n",
    "family_and_generosity_df = happiness_df.sort_values(\n",
    "    [\"Family\", \"Generosity\"], ascending=False)\n",
    "family_and_generosity_df.head()"
   ]
  },
  {
   "cell_type": "code",
   "execution_count": null,
   "metadata": {},
   "outputs": [],
   "source": [
    "# The index can be reset to provide index numbers based on the new rankings.\n",
    "new_index_df = family_and_generosity_df.reset_index(drop=True)\n",
    "new_index_df.head()"
   ]
  }
 ],
 "metadata": {
  "kernelspec": {
   "display_name": "Python [conda env:PythonData] *",
   "language": "python",
   "name": "conda-env-PythonData-py"
  },
  "language_info": {
   "codemirror_mode": {
    "name": "ipython",
    "version": 3
   },
   "file_extension": ".py",
   "mimetype": "text/x-python",
   "name": "python",
   "nbconvert_exporter": "python",
   "pygments_lexer": "ipython3",
   "version": "3.6.9"
  }
 },
 "nbformat": 4,
 "nbformat_minor": 2
}
