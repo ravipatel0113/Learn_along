{
 "cells": [
  {
   "cell_type": "code",
   "execution_count": null,
   "metadata": {},
   "outputs": [],
   "source": [
    "# Import Dependencies\n",
    "import pandas as pd"
   ]
  },
  {
   "cell_type": "code",
   "execution_count": null,
   "metadata": {},
   "outputs": [],
   "source": [
    "raw_data = {\n",
    "    'Class': ['Oct', 'Oct', 'Jan', 'Jan', 'Oct', 'Jan'], \n",
    "    'Name': [\"Cyndy\", \"Logan\", \"Laci\", \"Elmer\", \"Crystle\", \"Emmie\"], \n",
    "    'Test Score': [90, 59, 72, 88, 98, 60]}\n",
    "df = pd.DataFrame(raw_data)\n",
    "df"
   ]
  },
  {
   "cell_type": "code",
   "execution_count": null,
   "metadata": {},
   "outputs": [],
   "source": [
    "# Create the bins in which Data will be held\n",
    "# Bins are 0, 59.9, 69.9, 79.9, 89.9, 100.   \n",
    "bins = [0, 59.9, 69.9, 79.9, 89.9, 100]\n",
    "\n",
    "# Create the names for the five bins\n",
    "group_names = [\"F\", \"D\", \"C\", \"B\", \"A\"]"
   ]
  },
  {
   "cell_type": "code",
   "execution_count": null,
   "metadata": {},
   "outputs": [],
   "source": [
    "df[\"Test Score Summary\"] = pd.cut(df[\"Test Score\"], bins, labels=group_names, include_lowest=True)\n",
    "df"
   ]
  },
  {
   "cell_type": "code",
   "execution_count": null,
   "metadata": {},
   "outputs": [],
   "source": [
    "# Creating a group based off of the bins\n",
    "df = df.groupby(\"Test Score Summary\")\n",
    "df.max()"
   ]
  },
  {
   "cell_type": "code",
   "execution_count": null,
   "metadata": {},
   "outputs": [],
   "source": []
  }
 ],
 "metadata": {
  "kernelspec": {
   "display_name": "Python 3",
   "language": "python",
   "name": "python3"
  },
  "language_info": {
   "codemirror_mode": {
    "name": "ipython",
    "version": 3
   },
   "file_extension": ".py",
   "mimetype": "text/x-python",
   "name": "python",
   "nbconvert_exporter": "python",
   "pygments_lexer": "ipython3",
   "version": "3.6.9"
  }
 },
 "nbformat": 4,
 "nbformat_minor": 2
}
