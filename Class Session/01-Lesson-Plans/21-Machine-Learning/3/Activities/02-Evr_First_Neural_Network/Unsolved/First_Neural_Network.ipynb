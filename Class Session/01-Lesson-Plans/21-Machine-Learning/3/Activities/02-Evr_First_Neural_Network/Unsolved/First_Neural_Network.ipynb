{
 "cells": [
  {
   "cell_type": "markdown",
   "metadata": {
    "slideshow": {
     "slide_type": "slide"
    }
   },
   "source": [
    "# Neural Networks with Keras"
   ]
  },
  {
   "cell_type": "code",
   "execution_count": 1,
   "metadata": {},
   "outputs": [],
   "source": [
    "# Set the seed value for the notebook so the results are reproducible\n",
    "from numpy.random import seed\n",
    "seed(42)"
   ]
  },
  {
   "cell_type": "code",
   "execution_count": 2,
   "metadata": {
    "scrolled": true,
    "slideshow": {
     "slide_type": "subslide"
    }
   },
   "outputs": [
    {
     "name": "stdout",
     "output_type": "stream",
     "text": [
      "(100, 3)\n",
      "(100, 1)\n"
     ]
    }
   ],
   "source": [
    "# Generate some fake data with 3 features\n",
    "\n",
    "from sklearn.datasets import make_classification\n",
    "\n",
    "X, y = make_classification(n_features=3, n_redundant=0, n_informative=3,\n",
    "                           random_state=42, n_classes=2, n_clusters_per_class=1)\n",
    "\n",
    "y = y.reshape(-1, 1)\n",
    "\n",
    "print(X.shape)\n",
    "print(y.shape)"
   ]
  },
  {
   "cell_type": "markdown",
   "metadata": {
    "slideshow": {
     "slide_type": "subslide"
    }
   },
   "source": [
    "Use train_test_split to create training and testing data"
   ]
  },
  {
   "cell_type": "code",
   "execution_count": 3,
   "metadata": {
    "nbgrader": {
     "grade": false,
     "grade_id": "cell-97f9d8f3d4b7abc1",
     "locked": false,
     "schema_version": 1,
     "solution": true
    },
    "slideshow": {
     "slide_type": "fragment"
    }
   },
   "outputs": [],
   "source": [
    "from sklearn.model_selection import train_test_split\n",
    "\n",
    "X_train, X_test, y_train, y_test = train_test_split(X, y, random_state=1)"
   ]
  },
  {
   "cell_type": "markdown",
   "metadata": {
    "slideshow": {
     "slide_type": "slide"
    }
   },
   "source": [
    "## Data Preprocessing\n",
    "\n",
    "It is really important to scale our data before using multilayer perceptron models. \n",
    "\n",
    "Without scaling, it is often difficult for the training cycle to converge"
   ]
  },
  {
   "cell_type": "code",
   "execution_count": 4,
   "metadata": {
    "nbgrader": {
     "grade": false,
     "grade_id": "cell-37fc133aaa66b4b0",
     "locked": false,
     "schema_version": 1,
     "solution": true
    },
    "slideshow": {
     "slide_type": "subslide"
    }
   },
   "outputs": [],
   "source": [
    "from sklearn.preprocessing import StandardScaler\n",
    "\n",
    "X_scaler = StandardScaler().fit(X_train)"
   ]
  },
  {
   "cell_type": "markdown",
   "metadata": {
    "slideshow": {
     "slide_type": "subslide"
    }
   },
   "source": [
    "Remember to scale both the training and testing data"
   ]
  },
  {
   "cell_type": "code",
   "execution_count": 5,
   "metadata": {
    "nbgrader": {
     "grade": false,
     "grade_id": "cell-8ae47560e1c23a45",
     "locked": false,
     "schema_version": 1,
     "solution": true
    },
    "slideshow": {
     "slide_type": "fragment"
    }
   },
   "outputs": [],
   "source": [
    "X_train_scaled = X_scaler.transform(X_train)\n",
    "X_test_scaled = X_scaler.transform(X_test)"
   ]
  },
  {
   "cell_type": "markdown",
   "metadata": {},
   "source": [
    "One-hot encode the labels"
   ]
  },
  {
   "cell_type": "code",
   "execution_count": 7,
   "metadata": {},
   "outputs": [],
   "source": [
    "from tensorflow.keras.utils import to_categorical"
   ]
  },
  {
   "cell_type": "code",
   "execution_count": 8,
   "metadata": {
    "scrolled": true
   },
   "outputs": [
    {
     "data": {
      "text/plain": [
       "array([[0., 1.],\n",
       "       [1., 0.],\n",
       "       [0., 1.],\n",
       "       [1., 0.],\n",
       "       [0., 1.],\n",
       "       [1., 0.],\n",
       "       [0., 1.],\n",
       "       [1., 0.],\n",
       "       [0., 1.],\n",
       "       [1., 0.],\n",
       "       [1., 0.],\n",
       "       [1., 0.],\n",
       "       [0., 1.],\n",
       "       [1., 0.],\n",
       "       [0., 1.],\n",
       "       [1., 0.],\n",
       "       [1., 0.],\n",
       "       [1., 0.],\n",
       "       [0., 1.],\n",
       "       [0., 1.],\n",
       "       [0., 1.],\n",
       "       [0., 1.],\n",
       "       [1., 0.],\n",
       "       [1., 0.],\n",
       "       [0., 1.],\n",
       "       [0., 1.],\n",
       "       [1., 0.],\n",
       "       [0., 1.],\n",
       "       [1., 0.],\n",
       "       [1., 0.],\n",
       "       [0., 1.],\n",
       "       [0., 1.],\n",
       "       [1., 0.],\n",
       "       [0., 1.],\n",
       "       [1., 0.],\n",
       "       [1., 0.],\n",
       "       [1., 0.],\n",
       "       [0., 1.],\n",
       "       [0., 1.],\n",
       "       [0., 1.],\n",
       "       [0., 1.],\n",
       "       [0., 1.],\n",
       "       [0., 1.],\n",
       "       [1., 0.],\n",
       "       [1., 0.],\n",
       "       [1., 0.],\n",
       "       [0., 1.],\n",
       "       [1., 0.],\n",
       "       [1., 0.],\n",
       "       [0., 1.],\n",
       "       [1., 0.],\n",
       "       [0., 1.],\n",
       "       [0., 1.],\n",
       "       [0., 1.],\n",
       "       [1., 0.],\n",
       "       [0., 1.],\n",
       "       [1., 0.],\n",
       "       [0., 1.],\n",
       "       [1., 0.],\n",
       "       [1., 0.],\n",
       "       [0., 1.],\n",
       "       [0., 1.],\n",
       "       [0., 1.],\n",
       "       [1., 0.],\n",
       "       [1., 0.],\n",
       "       [1., 0.],\n",
       "       [1., 0.],\n",
       "       [0., 1.],\n",
       "       [0., 1.],\n",
       "       [1., 0.],\n",
       "       [0., 1.],\n",
       "       [1., 0.],\n",
       "       [0., 1.],\n",
       "       [1., 0.],\n",
       "       [1., 0.]], dtype=float32)"
      ]
     },
     "execution_count": 8,
     "metadata": {},
     "output_type": "execute_result"
    }
   ],
   "source": [
    "# One-hot encoding\n",
    "y_train_categorical = to_categorical(y_train)\n",
    "y_test_categorical = to_categorical(y_test)\n",
    "y_train_categorical"
   ]
  },
  {
   "cell_type": "markdown",
   "metadata": {
    "slideshow": {
     "slide_type": "slide"
    }
   },
   "source": [
    "## Creating our Model\n",
    "\n",
    "We must first decide what kind of model to apply to our data. \n",
    "\n",
    "For numerical data, we use a regressor model. \n",
    "\n",
    "For categorical data, we use a classifier model. \n",
    "\n",
    "In this example, we will use a classifier to build the following network:"
   ]
  },
  {
   "cell_type": "markdown",
   "metadata": {},
   "source": [
    "![nnet.png](../Images/nnet.png)"
   ]
  },
  {
   "cell_type": "markdown",
   "metadata": {},
   "source": [
    "## Defining our Model Architecture (the layers)\n",
    "\n",
    "We first need to create a sequential model"
   ]
  },
  {
   "cell_type": "code",
   "execution_count": 9,
   "metadata": {},
   "outputs": [],
   "source": [
    "from tensorflow.keras.models import Sequential\n",
    "\n",
    "model = Sequential()"
   ]
  },
  {
   "cell_type": "markdown",
   "metadata": {},
   "source": [
    "Next, we add our first layer. This layer requires you to specify both the number of inputs and the number of nodes that you want in the hidden layer."
   ]
  },
  {
   "cell_type": "code",
   "execution_count": 10,
   "metadata": {},
   "outputs": [],
   "source": [
    "from tensorflow.keras.layers import Dense\n",
    "number_inputs = 3\n",
    "number_hidden_nodes = 4\n",
    "model.add(Dense(units=number_hidden_nodes,\n",
    "                activation='relu', input_dim=number_inputs))"
   ]
  },
  {
   "cell_type": "markdown",
   "metadata": {},
   "source": [
    "![first_layer](../Images/nnet_first_layer.png)"
   ]
  },
  {
   "cell_type": "markdown",
   "metadata": {},
   "source": [
    "Our final layer is the output layer. Here, we need to specify the activation function (typically `softmax` for classification) and the number of classes (labels) that we are trying to predict (2 in this example)."
   ]
  },
  {
   "cell_type": "code",
   "execution_count": 11,
   "metadata": {},
   "outputs": [],
   "source": [
    "number_classes = 2\n",
    "model.add(Dense(units=number_classes, activation='softmax'))"
   ]
  },
  {
   "cell_type": "markdown",
   "metadata": {},
   "source": [
    "![output_layer](../Images/nnet_output_layer.png)"
   ]
  },
  {
   "cell_type": "markdown",
   "metadata": {},
   "source": [
    "## Model Summary"
   ]
  },
  {
   "cell_type": "code",
   "execution_count": 12,
   "metadata": {},
   "outputs": [
    {
     "name": "stdout",
     "output_type": "stream",
     "text": [
      "Model: \"sequential\"\n",
      "_________________________________________________________________\n",
      "Layer (type)                 Output Shape              Param #   \n",
      "=================================================================\n",
      "dense (Dense)                (None, 4)                 16        \n",
      "_________________________________________________________________\n",
      "dense_1 (Dense)              (None, 2)                 10        \n",
      "=================================================================\n",
      "Total params: 26\n",
      "Trainable params: 26\n",
      "Non-trainable params: 0\n",
      "_________________________________________________________________\n"
     ]
    }
   ],
   "source": [
    "model.summary()"
   ]
  },
  {
   "cell_type": "markdown",
   "metadata": {},
   "source": [
    "## Compile the Model\n",
    "\n",
    "Now that we have our model architecture defined, we must compile the model using a loss function and optimizer. We can also specify additional training metrics such as accuracy."
   ]
  },
  {
   "cell_type": "code",
   "execution_count": 13,
   "metadata": {},
   "outputs": [],
   "source": [
    "# Use categorical crossentropy for categorical data and mean squared error for regression\n",
    "# Hint: your output layer in this example is using software for logistic regression (categorical)\n",
    "# If your output layer activation was `linear` then you may want to use `mse` for loss\n",
    "model.compile(optimizer='adam',\n",
    "              loss='categorical_crossentropy',\n",
    "              metrics=['accuracy'])"
   ]
  },
  {
   "cell_type": "markdown",
   "metadata": {},
   "source": [
    "## Training the Model\n",
    "Finally, we train our model using our training data"
   ]
  },
  {
   "cell_type": "markdown",
   "metadata": {},
   "source": [
    "Training consists of updating our weights using our optimizer and loss function. In this example, we choose 1000 iterations (loops) of training that are called epochs.\n",
    "\n",
    "We also choose to shuffle our training data and increase the detail printed out during each training cycle."
   ]
  },
  {
   "cell_type": "code",
   "execution_count": null,
   "metadata": {},
   "outputs": [
    {
     "name": "stdout",
     "output_type": "stream",
     "text": [
      "Epoch 1/1000\n",
      "3/3 - 1s - loss: 0.8750 - accuracy: 0.5067\n",
      "Epoch 2/1000\n",
      "3/3 - 0s - loss: 0.8669 - accuracy: 0.5067\n",
      "Epoch 3/1000\n",
      "3/3 - 0s - loss: 0.8574 - accuracy: 0.5067\n",
      "Epoch 4/1000\n",
      "3/3 - 0s - loss: 0.8488 - accuracy: 0.5067\n",
      "Epoch 5/1000\n",
      "3/3 - 0s - loss: 0.8408 - accuracy: 0.5067\n",
      "Epoch 6/1000\n",
      "3/3 - 0s - loss: 0.8324 - accuracy: 0.5067\n",
      "Epoch 7/1000\n",
      "3/3 - 0s - loss: 0.8242 - accuracy: 0.5067\n",
      "Epoch 8/1000\n",
      "3/3 - 0s - loss: 0.8158 - accuracy: 0.5067\n",
      "Epoch 9/1000\n",
      "3/3 - 0s - loss: 0.8078 - accuracy: 0.5067\n",
      "Epoch 10/1000\n",
      "3/3 - 0s - loss: 0.8001 - accuracy: 0.5067\n",
      "Epoch 11/1000\n",
      "3/3 - 0s - loss: 0.7924 - accuracy: 0.5067\n",
      "Epoch 12/1000\n",
      "3/3 - 0s - loss: 0.7846 - accuracy: 0.5067\n",
      "Epoch 13/1000\n",
      "3/3 - 0s - loss: 0.7775 - accuracy: 0.5067\n",
      "Epoch 14/1000\n",
      "3/3 - 0s - loss: 0.7698 - accuracy: 0.5067\n",
      "Epoch 15/1000\n",
      "3/3 - 0s - loss: 0.7625 - accuracy: 0.5067\n",
      "Epoch 16/1000\n",
      "3/3 - 0s - loss: 0.7559 - accuracy: 0.5067\n",
      "Epoch 17/1000\n",
      "3/3 - 0s - loss: 0.7485 - accuracy: 0.5067\n",
      "Epoch 18/1000\n",
      "3/3 - 0s - loss: 0.7419 - accuracy: 0.5067\n",
      "Epoch 19/1000\n",
      "3/3 - 0s - loss: 0.7353 - accuracy: 0.5067\n",
      "Epoch 20/1000\n",
      "3/3 - 0s - loss: 0.7287 - accuracy: 0.5067\n",
      "Epoch 21/1000\n",
      "3/3 - 0s - loss: 0.7223 - accuracy: 0.5067\n",
      "Epoch 22/1000\n",
      "3/3 - 0s - loss: 0.7161 - accuracy: 0.5067\n",
      "Epoch 23/1000\n",
      "3/3 - 0s - loss: 0.7092 - accuracy: 0.5067\n",
      "Epoch 24/1000\n",
      "3/3 - 0s - loss: 0.7035 - accuracy: 0.5067\n",
      "Epoch 25/1000\n",
      "3/3 - 0s - loss: 0.6971 - accuracy: 0.5200\n",
      "Epoch 26/1000\n",
      "3/3 - 0s - loss: 0.6911 - accuracy: 0.5200\n",
      "Epoch 27/1000\n",
      "3/3 - 0s - loss: 0.6846 - accuracy: 0.5200\n",
      "Epoch 28/1000\n",
      "3/3 - 0s - loss: 0.6789 - accuracy: 0.5200\n",
      "Epoch 29/1000\n",
      "3/3 - 0s - loss: 0.6729 - accuracy: 0.5333\n",
      "Epoch 30/1000\n",
      "3/3 - 0s - loss: 0.6672 - accuracy: 0.5333\n",
      "Epoch 31/1000\n",
      "3/3 - 0s - loss: 0.6613 - accuracy: 0.5333\n",
      "Epoch 32/1000\n",
      "3/3 - 0s - loss: 0.6560 - accuracy: 0.5333\n",
      "Epoch 33/1000\n",
      "3/3 - 0s - loss: 0.6500 - accuracy: 0.5467\n",
      "Epoch 34/1000\n",
      "3/3 - 0s - loss: 0.6445 - accuracy: 0.5467\n",
      "Epoch 35/1000\n",
      "3/3 - 0s - loss: 0.6396 - accuracy: 0.5467\n",
      "Epoch 36/1000\n",
      "3/3 - 0s - loss: 0.6342 - accuracy: 0.5467\n",
      "Epoch 37/1000\n",
      "3/3 - 0s - loss: 0.6288 - accuracy: 0.5600\n",
      "Epoch 38/1000\n",
      "3/3 - 0s - loss: 0.6237 - accuracy: 0.5600\n",
      "Epoch 39/1000\n",
      "3/3 - 0s - loss: 0.6189 - accuracy: 0.5600\n",
      "Epoch 40/1000\n",
      "3/3 - 0s - loss: 0.6140 - accuracy: 0.5600\n",
      "Epoch 41/1000\n",
      "3/3 - 0s - loss: 0.6088 - accuracy: 0.5600\n",
      "Epoch 42/1000\n",
      "3/3 - 0s - loss: 0.6043 - accuracy: 0.5600\n",
      "Epoch 43/1000\n",
      "3/3 - 0s - loss: 0.5997 - accuracy: 0.5600\n",
      "Epoch 44/1000\n",
      "3/3 - 0s - loss: 0.5949 - accuracy: 0.5600\n",
      "Epoch 45/1000\n",
      "3/3 - 0s - loss: 0.5902 - accuracy: 0.5733\n",
      "Epoch 46/1000\n",
      "3/3 - 0s - loss: 0.5861 - accuracy: 0.5733\n",
      "Epoch 47/1000\n",
      "3/3 - 0s - loss: 0.5814 - accuracy: 0.5733\n",
      "Epoch 48/1000\n",
      "3/3 - 0s - loss: 0.5768 - accuracy: 0.5867\n",
      "Epoch 49/1000\n",
      "3/3 - 0s - loss: 0.5724 - accuracy: 0.5867\n",
      "Epoch 50/1000\n",
      "3/3 - 0s - loss: 0.5683 - accuracy: 0.5867\n",
      "Epoch 51/1000\n",
      "3/3 - 0s - loss: 0.5637 - accuracy: 0.6133\n",
      "Epoch 52/1000\n",
      "3/3 - 0s - loss: 0.5596 - accuracy: 0.6267\n",
      "Epoch 53/1000\n",
      "3/3 - 0s - loss: 0.5556 - accuracy: 0.6267\n",
      "Epoch 54/1000\n",
      "3/3 - 0s - loss: 0.5513 - accuracy: 0.6267\n",
      "Epoch 55/1000\n",
      "3/3 - 0s - loss: 0.5475 - accuracy: 0.6267\n",
      "Epoch 56/1000\n",
      "3/3 - 0s - loss: 0.5439 - accuracy: 0.6267\n",
      "Epoch 57/1000\n",
      "3/3 - 0s - loss: 0.5397 - accuracy: 0.6267\n",
      "Epoch 58/1000\n",
      "3/3 - 0s - loss: 0.5360 - accuracy: 0.6267\n",
      "Epoch 59/1000\n",
      "3/3 - 0s - loss: 0.5324 - accuracy: 0.6267\n",
      "Epoch 60/1000\n",
      "3/3 - 0s - loss: 0.5285 - accuracy: 0.6267\n",
      "Epoch 61/1000\n",
      "3/3 - 0s - loss: 0.5249 - accuracy: 0.6533\n",
      "Epoch 62/1000\n",
      "3/3 - 0s - loss: 0.5214 - accuracy: 0.6533\n",
      "Epoch 63/1000\n",
      "3/3 - 0s - loss: 0.5178 - accuracy: 0.6533\n",
      "Epoch 64/1000\n",
      "3/3 - 0s - loss: 0.5144 - accuracy: 0.6533\n",
      "Epoch 65/1000\n",
      "3/3 - 0s - loss: 0.5109 - accuracy: 0.6533\n",
      "Epoch 66/1000\n",
      "3/3 - 0s - loss: 0.5075 - accuracy: 0.6533\n",
      "Epoch 67/1000\n",
      "3/3 - 0s - loss: 0.5041 - accuracy: 0.6533\n",
      "Epoch 68/1000\n",
      "3/3 - 0s - loss: 0.5008 - accuracy: 0.6533\n",
      "Epoch 69/1000\n",
      "3/3 - 0s - loss: 0.4976 - accuracy: 0.6533\n",
      "Epoch 70/1000\n",
      "3/3 - 0s - loss: 0.4943 - accuracy: 0.6933\n",
      "Epoch 71/1000\n",
      "3/3 - 0s - loss: 0.4912 - accuracy: 0.7067\n",
      "Epoch 72/1000\n",
      "3/3 - 0s - loss: 0.4882 - accuracy: 0.7200\n",
      "Epoch 73/1000\n",
      "3/3 - 0s - loss: 0.4850 - accuracy: 0.7200\n",
      "Epoch 74/1000\n",
      "3/3 - 0s - loss: 0.4821 - accuracy: 0.7200\n",
      "Epoch 75/1000\n",
      "3/3 - 0s - loss: 0.4792 - accuracy: 0.7200\n",
      "Epoch 76/1000\n",
      "3/3 - 0s - loss: 0.4761 - accuracy: 0.7333\n",
      "Epoch 77/1000\n",
      "3/3 - 0s - loss: 0.4732 - accuracy: 0.7333\n",
      "Epoch 78/1000\n",
      "3/3 - 0s - loss: 0.4703 - accuracy: 0.7333\n",
      "Epoch 79/1000\n",
      "3/3 - 0s - loss: 0.4674 - accuracy: 0.7600\n",
      "Epoch 80/1000\n",
      "3/3 - 0s - loss: 0.4646 - accuracy: 0.7600\n",
      "Epoch 81/1000\n",
      "3/3 - 0s - loss: 0.4616 - accuracy: 0.7600\n",
      "Epoch 82/1000\n",
      "3/3 - 0s - loss: 0.4590 - accuracy: 0.7733\n",
      "Epoch 83/1000\n",
      "3/3 - 0s - loss: 0.4561 - accuracy: 0.7733\n",
      "Epoch 84/1000\n",
      "3/3 - 0s - loss: 0.4535 - accuracy: 0.7867\n",
      "Epoch 85/1000\n",
      "3/3 - 0s - loss: 0.4509 - accuracy: 0.7867\n",
      "Epoch 86/1000\n",
      "3/3 - 0s - loss: 0.4482 - accuracy: 0.7867\n",
      "Epoch 87/1000\n",
      "3/3 - 0s - loss: 0.4457 - accuracy: 0.8133\n",
      "Epoch 88/1000\n",
      "3/3 - 0s - loss: 0.4432 - accuracy: 0.8133\n",
      "Epoch 89/1000\n",
      "3/3 - 0s - loss: 0.4405 - accuracy: 0.8267\n",
      "Epoch 90/1000\n",
      "3/3 - 0s - loss: 0.4380 - accuracy: 0.8267\n",
      "Epoch 91/1000\n",
      "3/3 - 0s - loss: 0.4355 - accuracy: 0.8267\n",
      "Epoch 92/1000\n",
      "3/3 - 0s - loss: 0.4331 - accuracy: 0.8267\n",
      "Epoch 93/1000\n",
      "3/3 - 0s - loss: 0.4306 - accuracy: 0.8267\n",
      "Epoch 94/1000\n",
      "3/3 - 0s - loss: 0.4283 - accuracy: 0.8533\n",
      "Epoch 95/1000\n",
      "3/3 - 0s - loss: 0.4259 - accuracy: 0.8667\n",
      "Epoch 96/1000\n",
      "3/3 - 0s - loss: 0.4235 - accuracy: 0.8800\n",
      "Epoch 97/1000\n",
      "3/3 - 0s - loss: 0.4212 - accuracy: 0.8800\n",
      "Epoch 98/1000\n",
      "3/3 - 0s - loss: 0.4189 - accuracy: 0.8800\n",
      "Epoch 99/1000\n",
      "3/3 - 0s - loss: 0.4166 - accuracy: 0.8933\n",
      "Epoch 100/1000\n",
      "3/3 - 0s - loss: 0.4144 - accuracy: 0.8933\n",
      "Epoch 101/1000\n",
      "3/3 - 0s - loss: 0.4122 - accuracy: 0.8933\n",
      "Epoch 102/1000\n",
      "3/3 - 0s - loss: 0.4099 - accuracy: 0.8933\n",
      "Epoch 103/1000\n",
      "3/3 - 0s - loss: 0.4077 - accuracy: 0.8933\n",
      "Epoch 104/1000\n",
      "3/3 - 0s - loss: 0.4057 - accuracy: 0.8933\n",
      "Epoch 105/1000\n",
      "3/3 - 0s - loss: 0.4035 - accuracy: 0.8933\n",
      "Epoch 106/1000\n",
      "3/3 - 0s - loss: 0.4013 - accuracy: 0.8933\n",
      "Epoch 107/1000\n",
      "3/3 - 0s - loss: 0.3993 - accuracy: 0.9067\n",
      "Epoch 108/1000\n",
      "3/3 - 0s - loss: 0.3972 - accuracy: 0.9067\n",
      "Epoch 109/1000\n",
      "3/3 - 0s - loss: 0.3953 - accuracy: 0.9067\n",
      "Epoch 110/1000\n",
      "3/3 - 0s - loss: 0.3932 - accuracy: 0.9067\n",
      "Epoch 111/1000\n",
      "3/3 - 0s - loss: 0.3911 - accuracy: 0.9200\n",
      "Epoch 112/1000\n",
      "3/3 - 0s - loss: 0.3891 - accuracy: 0.9200\n",
      "Epoch 113/1000\n",
      "3/3 - 0s - loss: 0.3870 - accuracy: 0.9200\n",
      "Epoch 114/1000\n",
      "3/3 - 0s - loss: 0.3850 - accuracy: 0.9200\n",
      "Epoch 115/1000\n",
      "3/3 - 0s - loss: 0.3830 - accuracy: 0.9200\n",
      "Epoch 116/1000\n",
      "3/3 - 0s - loss: 0.3809 - accuracy: 0.9200\n",
      "Epoch 117/1000\n",
      "3/3 - 0s - loss: 0.3788 - accuracy: 0.9200\n",
      "Epoch 118/1000\n",
      "3/3 - 0s - loss: 0.3768 - accuracy: 0.9200\n",
      "Epoch 119/1000\n",
      "3/3 - 0s - loss: 0.3749 - accuracy: 0.9333\n",
      "Epoch 120/1000\n",
      "3/3 - 0s - loss: 0.3729 - accuracy: 0.9333\n",
      "Epoch 121/1000\n",
      "3/3 - 0s - loss: 0.3708 - accuracy: 0.9333\n",
      "Epoch 122/1000\n",
      "3/3 - 0s - loss: 0.3689 - accuracy: 0.9467\n",
      "Epoch 123/1000\n",
      "3/3 - 0s - loss: 0.3670 - accuracy: 0.9467\n",
      "Epoch 124/1000\n",
      "3/3 - 0s - loss: 0.3651 - accuracy: 0.9467\n",
      "Epoch 125/1000\n",
      "3/3 - 0s - loss: 0.3632 - accuracy: 0.9467\n",
      "Epoch 126/1000\n",
      "3/3 - 0s - loss: 0.3614 - accuracy: 0.9467\n",
      "Epoch 127/1000\n",
      "3/3 - 0s - loss: 0.3596 - accuracy: 0.9467\n",
      "Epoch 128/1000\n",
      "3/3 - 0s - loss: 0.3576 - accuracy: 0.9467\n",
      "Epoch 129/1000\n",
      "3/3 - 0s - loss: 0.3558 - accuracy: 0.9467\n",
      "Epoch 130/1000\n",
      "3/3 - 0s - loss: 0.3541 - accuracy: 0.9467\n",
      "Epoch 131/1000\n",
      "3/3 - 0s - loss: 0.3523 - accuracy: 0.9467\n",
      "Epoch 132/1000\n",
      "3/3 - 0s - loss: 0.3505 - accuracy: 0.9600\n",
      "Epoch 133/1000\n",
      "3/3 - 0s - loss: 0.3486 - accuracy: 0.9600\n",
      "Epoch 134/1000\n",
      "3/3 - 0s - loss: 0.3468 - accuracy: 0.9600\n",
      "Epoch 135/1000\n",
      "3/3 - 0s - loss: 0.3453 - accuracy: 0.9600\n",
      "Epoch 136/1000\n",
      "3/3 - 0s - loss: 0.3434 - accuracy: 0.9600\n",
      "Epoch 137/1000\n",
      "3/3 - 0s - loss: 0.3416 - accuracy: 0.9600\n",
      "Epoch 138/1000\n",
      "3/3 - 0s - loss: 0.3400 - accuracy: 0.9600\n",
      "Epoch 139/1000\n",
      "3/3 - 0s - loss: 0.3382 - accuracy: 0.9600\n",
      "Epoch 140/1000\n",
      "3/3 - 0s - loss: 0.3365 - accuracy: 0.9600\n",
      "Epoch 141/1000\n",
      "3/3 - 0s - loss: 0.3349 - accuracy: 0.9600\n",
      "Epoch 142/1000\n",
      "3/3 - 0s - loss: 0.3331 - accuracy: 0.9600\n",
      "Epoch 143/1000\n",
      "3/3 - 0s - loss: 0.3315 - accuracy: 0.9600\n",
      "Epoch 144/1000\n",
      "3/3 - 0s - loss: 0.3298 - accuracy: 0.9600\n"
     ]
    },
    {
     "name": "stdout",
     "output_type": "stream",
     "text": [
      "Epoch 145/1000\n",
      "3/3 - 0s - loss: 0.3283 - accuracy: 0.9600\n",
      "Epoch 146/1000\n",
      "3/3 - 0s - loss: 0.3266 - accuracy: 0.9600\n",
      "Epoch 147/1000\n",
      "3/3 - 0s - loss: 0.3250 - accuracy: 0.9600\n",
      "Epoch 148/1000\n",
      "3/3 - 0s - loss: 0.3233 - accuracy: 0.9600\n",
      "Epoch 149/1000\n",
      "3/3 - 0s - loss: 0.3218 - accuracy: 0.9600\n",
      "Epoch 150/1000\n",
      "3/3 - 0s - loss: 0.3201 - accuracy: 0.9600\n",
      "Epoch 151/1000\n",
      "3/3 - 0s - loss: 0.3187 - accuracy: 0.9600\n",
      "Epoch 152/1000\n",
      "3/3 - 0s - loss: 0.3171 - accuracy: 0.9600\n",
      "Epoch 153/1000\n",
      "3/3 - 0s - loss: 0.3155 - accuracy: 0.9600\n",
      "Epoch 154/1000\n",
      "3/3 - 0s - loss: 0.3140 - accuracy: 0.9600\n",
      "Epoch 155/1000\n",
      "3/3 - 0s - loss: 0.3125 - accuracy: 0.9600\n",
      "Epoch 156/1000\n",
      "3/3 - 0s - loss: 0.3110 - accuracy: 0.9600\n",
      "Epoch 157/1000\n",
      "3/3 - 0s - loss: 0.3095 - accuracy: 0.9600\n",
      "Epoch 158/1000\n",
      "3/3 - 0s - loss: 0.3080 - accuracy: 0.9600\n",
      "Epoch 159/1000\n",
      "3/3 - 0s - loss: 0.3065 - accuracy: 0.9600\n",
      "Epoch 160/1000\n",
      "3/3 - 0s - loss: 0.3050 - accuracy: 0.9600\n",
      "Epoch 161/1000\n",
      "3/3 - 0s - loss: 0.3035 - accuracy: 0.9600\n",
      "Epoch 162/1000\n",
      "3/3 - 0s - loss: 0.3022 - accuracy: 0.9600\n",
      "Epoch 163/1000\n",
      "3/3 - 0s - loss: 0.3006 - accuracy: 0.9600\n",
      "Epoch 164/1000\n",
      "3/3 - 0s - loss: 0.2992 - accuracy: 0.9600\n",
      "Epoch 165/1000\n",
      "3/3 - 0s - loss: 0.2978 - accuracy: 0.9600\n",
      "Epoch 166/1000\n",
      "3/3 - 0s - loss: 0.2964 - accuracy: 0.9600\n",
      "Epoch 167/1000\n",
      "3/3 - 0s - loss: 0.2949 - accuracy: 0.9600\n",
      "Epoch 168/1000\n",
      "3/3 - 0s - loss: 0.2934 - accuracy: 0.9600\n",
      "Epoch 169/1000\n",
      "3/3 - 0s - loss: 0.2920 - accuracy: 0.9600\n",
      "Epoch 170/1000\n",
      "3/3 - 0s - loss: 0.2904 - accuracy: 0.9600\n",
      "Epoch 171/1000\n",
      "3/3 - 0s - loss: 0.2889 - accuracy: 0.9600\n",
      "Epoch 172/1000\n",
      "3/3 - 0s - loss: 0.2874 - accuracy: 0.9733\n",
      "Epoch 173/1000\n",
      "3/3 - 0s - loss: 0.2859 - accuracy: 0.9733\n",
      "Epoch 174/1000\n",
      "3/3 - 0s - loss: 0.2845 - accuracy: 0.9733\n",
      "Epoch 175/1000\n",
      "3/3 - 0s - loss: 0.2830 - accuracy: 0.9733\n",
      "Epoch 176/1000\n",
      "3/3 - 0s - loss: 0.2816 - accuracy: 0.9733\n",
      "Epoch 177/1000\n",
      "3/3 - 0s - loss: 0.2801 - accuracy: 0.9733\n",
      "Epoch 178/1000\n",
      "3/3 - 0s - loss: 0.2786 - accuracy: 0.9733\n",
      "Epoch 179/1000\n",
      "3/3 - 0s - loss: 0.2773 - accuracy: 0.9733\n",
      "Epoch 180/1000\n",
      "3/3 - 0s - loss: 0.2759 - accuracy: 0.9733\n",
      "Epoch 181/1000\n",
      "3/3 - 0s - loss: 0.2745 - accuracy: 0.9733\n",
      "Epoch 182/1000\n",
      "3/3 - 0s - loss: 0.2732 - accuracy: 0.9733\n",
      "Epoch 183/1000\n",
      "3/3 - 0s - loss: 0.2718 - accuracy: 0.9733\n",
      "Epoch 184/1000\n",
      "3/3 - 0s - loss: 0.2705 - accuracy: 0.9733\n",
      "Epoch 185/1000\n",
      "3/3 - 0s - loss: 0.2690 - accuracy: 0.9733\n",
      "Epoch 186/1000\n",
      "3/3 - 0s - loss: 0.2676 - accuracy: 0.9733\n",
      "Epoch 187/1000\n",
      "3/3 - 0s - loss: 0.2661 - accuracy: 0.9733\n",
      "Epoch 188/1000\n",
      "3/3 - 0s - loss: 0.2648 - accuracy: 0.9733\n",
      "Epoch 189/1000\n",
      "3/3 - 0s - loss: 0.2634 - accuracy: 0.9733\n",
      "Epoch 190/1000\n",
      "3/3 - 0s - loss: 0.2621 - accuracy: 0.9733\n",
      "Epoch 191/1000\n",
      "3/3 - 0s - loss: 0.2606 - accuracy: 0.9733\n",
      "Epoch 192/1000\n",
      "3/3 - 0s - loss: 0.2594 - accuracy: 0.9733\n",
      "Epoch 193/1000\n",
      "3/3 - 0s - loss: 0.2581 - accuracy: 0.9733\n",
      "Epoch 194/1000\n",
      "3/3 - 0s - loss: 0.2567 - accuracy: 0.9733\n",
      "Epoch 195/1000\n",
      "3/3 - 0s - loss: 0.2554 - accuracy: 0.9600\n",
      "Epoch 196/1000\n",
      "3/3 - 0s - loss: 0.2543 - accuracy: 0.9600\n",
      "Epoch 197/1000\n",
      "3/3 - 0s - loss: 0.2532 - accuracy: 0.9600\n",
      "Epoch 198/1000\n",
      "3/3 - 0s - loss: 0.2521 - accuracy: 0.9600\n",
      "Epoch 199/1000\n",
      "3/3 - 0s - loss: 0.2510 - accuracy: 0.9600\n",
      "Epoch 200/1000\n",
      "3/3 - 0s - loss: 0.2500 - accuracy: 0.9600\n",
      "Epoch 201/1000\n",
      "3/3 - 0s - loss: 0.2489 - accuracy: 0.9600\n",
      "Epoch 202/1000\n",
      "3/3 - 0s - loss: 0.2478 - accuracy: 0.9600\n",
      "Epoch 203/1000\n",
      "3/3 - 0s - loss: 0.2468 - accuracy: 0.9600\n",
      "Epoch 204/1000\n",
      "3/3 - 0s - loss: 0.2458 - accuracy: 0.9600\n",
      "Epoch 205/1000\n",
      "3/3 - 0s - loss: 0.2447 - accuracy: 0.9600\n",
      "Epoch 206/1000\n",
      "3/3 - 0s - loss: 0.2437 - accuracy: 0.9600\n",
      "Epoch 207/1000\n",
      "3/3 - 0s - loss: 0.2426 - accuracy: 0.9467\n",
      "Epoch 208/1000\n",
      "3/3 - 0s - loss: 0.2417 - accuracy: 0.9467\n",
      "Epoch 209/1000\n",
      "3/3 - 0s - loss: 0.2406 - accuracy: 0.9467\n",
      "Epoch 210/1000\n",
      "3/3 - 0s - loss: 0.2397 - accuracy: 0.9467\n",
      "Epoch 211/1000\n",
      "3/3 - 0s - loss: 0.2387 - accuracy: 0.9467\n",
      "Epoch 212/1000\n",
      "3/3 - 0s - loss: 0.2377 - accuracy: 0.9467\n",
      "Epoch 213/1000\n",
      "3/3 - 0s - loss: 0.2368 - accuracy: 0.9467\n",
      "Epoch 214/1000\n",
      "3/3 - 0s - loss: 0.2358 - accuracy: 0.9467\n",
      "Epoch 215/1000\n",
      "3/3 - 0s - loss: 0.2349 - accuracy: 0.9467\n",
      "Epoch 216/1000\n",
      "3/3 - 0s - loss: 0.2340 - accuracy: 0.9600\n",
      "Epoch 217/1000\n",
      "3/3 - 0s - loss: 0.2331 - accuracy: 0.9600\n",
      "Epoch 218/1000\n",
      "3/3 - 0s - loss: 0.2322 - accuracy: 0.9600\n",
      "Epoch 219/1000\n",
      "3/3 - 0s - loss: 0.2313 - accuracy: 0.9600\n",
      "Epoch 220/1000\n",
      "3/3 - 0s - loss: 0.2303 - accuracy: 0.9600\n",
      "Epoch 221/1000\n",
      "3/3 - 0s - loss: 0.2295 - accuracy: 0.9600\n",
      "Epoch 222/1000\n",
      "3/3 - 0s - loss: 0.2286 - accuracy: 0.9600\n",
      "Epoch 223/1000\n",
      "3/3 - 0s - loss: 0.2277 - accuracy: 0.9600\n",
      "Epoch 224/1000\n",
      "3/3 - 0s - loss: 0.2267 - accuracy: 0.9600\n",
      "Epoch 225/1000\n",
      "3/3 - 0s - loss: 0.2258 - accuracy: 0.9733\n",
      "Epoch 226/1000\n",
      "3/3 - 0s - loss: 0.2248 - accuracy: 0.9733\n",
      "Epoch 227/1000\n",
      "3/3 - 0s - loss: 0.2240 - accuracy: 0.9733\n",
      "Epoch 228/1000\n",
      "3/3 - 0s - loss: 0.2230 - accuracy: 0.9733\n",
      "Epoch 229/1000\n",
      "3/3 - 0s - loss: 0.2221 - accuracy: 0.9733\n",
      "Epoch 230/1000\n",
      "3/3 - 0s - loss: 0.2212 - accuracy: 0.9733\n",
      "Epoch 231/1000\n",
      "3/3 - 0s - loss: 0.2202 - accuracy: 0.9733\n",
      "Epoch 232/1000\n",
      "3/3 - 0s - loss: 0.2193 - accuracy: 0.9733\n",
      "Epoch 233/1000\n",
      "3/3 - 0s - loss: 0.2184 - accuracy: 0.9733\n",
      "Epoch 234/1000\n",
      "3/3 - 0s - loss: 0.2175 - accuracy: 0.9733\n",
      "Epoch 235/1000\n",
      "3/3 - 0s - loss: 0.2165 - accuracy: 0.9733\n",
      "Epoch 236/1000\n",
      "3/3 - 0s - loss: 0.2156 - accuracy: 0.9733\n",
      "Epoch 237/1000\n",
      "3/3 - 0s - loss: 0.2148 - accuracy: 0.9733\n",
      "Epoch 238/1000\n",
      "3/3 - 0s - loss: 0.2138 - accuracy: 0.9733\n",
      "Epoch 239/1000\n",
      "3/3 - 0s - loss: 0.2130 - accuracy: 0.9867\n",
      "Epoch 240/1000\n",
      "3/3 - 0s - loss: 0.2121 - accuracy: 0.9867\n",
      "Epoch 241/1000\n",
      "3/3 - 0s - loss: 0.2113 - accuracy: 0.9867\n",
      "Epoch 242/1000\n",
      "3/3 - 0s - loss: 0.2105 - accuracy: 0.9867\n",
      "Epoch 243/1000\n",
      "3/3 - 0s - loss: 0.2097 - accuracy: 0.9867\n",
      "Epoch 244/1000\n",
      "3/3 - 0s - loss: 0.2090 - accuracy: 0.9867\n",
      "Epoch 245/1000\n",
      "3/3 - 0s - loss: 0.2082 - accuracy: 0.9867\n",
      "Epoch 246/1000\n",
      "3/3 - 0s - loss: 0.2074 - accuracy: 0.9867\n",
      "Epoch 247/1000\n",
      "3/3 - 0s - loss: 0.2066 - accuracy: 0.9867\n",
      "Epoch 248/1000\n",
      "3/3 - 0s - loss: 0.2058 - accuracy: 0.9867\n",
      "Epoch 249/1000\n",
      "3/3 - 0s - loss: 0.2051 - accuracy: 0.9867\n",
      "Epoch 250/1000\n",
      "3/3 - 0s - loss: 0.2043 - accuracy: 0.9867\n",
      "Epoch 251/1000\n",
      "3/3 - 0s - loss: 0.2035 - accuracy: 0.9867\n",
      "Epoch 252/1000\n",
      "3/3 - 0s - loss: 0.2027 - accuracy: 0.9867\n",
      "Epoch 253/1000\n",
      "3/3 - 0s - loss: 0.2020 - accuracy: 0.9867\n",
      "Epoch 254/1000\n",
      "3/3 - 0s - loss: 0.2011 - accuracy: 0.9867\n",
      "Epoch 255/1000\n",
      "3/3 - 0s - loss: 0.2004 - accuracy: 0.9867\n",
      "Epoch 256/1000\n",
      "3/3 - 0s - loss: 0.1997 - accuracy: 0.9867\n",
      "Epoch 257/1000\n",
      "3/3 - 0s - loss: 0.1989 - accuracy: 0.9867\n",
      "Epoch 258/1000\n",
      "3/3 - 0s - loss: 0.1982 - accuracy: 0.9867\n"
     ]
    }
   ],
   "source": [
    "# Fit (train) the model\n",
    "model.fit(\n",
    "    X_train_scaled,\n",
    "    y_train_categorical,\n",
    "    epochs=1000,\n",
    "    shuffle=True,\n",
    "    verbose=2\n",
    ")"
   ]
  },
  {
   "cell_type": "markdown",
   "metadata": {
    "slideshow": {
     "slide_type": "slide"
    }
   },
   "source": [
    "## Quantifying the Model\n",
    "We use our testing data to validate our model. This is how we determine the validity of our model (i.e. the ability to predict new and previously unseen data points)"
   ]
  },
  {
   "cell_type": "code",
   "execution_count": null,
   "metadata": {
    "nbgrader": {
     "grade": false,
     "grade_id": "cell-715f0369813d2b84",
     "locked": false,
     "schema_version": 1,
     "solution": true
    },
    "slideshow": {
     "slide_type": "fragment"
    }
   },
   "outputs": [],
   "source": [
    "# Evaluate the model using the testing data\n",
    "model_loss, model_accuracy = model.evaluate(\n",
    "    X_test_scaled, y_test_categorical, verbose=2)\n",
    "print(f\"Loss: {model_loss}, Accuracy: {model_accuracy}\")"
   ]
  },
  {
   "cell_type": "markdown",
   "metadata": {},
   "source": [
    "## Making Predictions with new data\n",
    "\n",
    "We can use our trained model to make predictions using `model.predict`"
   ]
  },
  {
   "cell_type": "code",
   "execution_count": null,
   "metadata": {},
   "outputs": [],
   "source": [
    "import numpy as np\n",
    "new_data = np.array([[0.2, 0.3, 0.4]])\n",
    "print(f\"Predicted class: {model.predict_classes(new_data)}\")"
   ]
  }
 ],
 "metadata": {
  "anaconda-cloud": {},
  "kernelspec": {
   "display_name": "Python 3",
   "language": "python",
   "name": "python3"
  },
  "language_info": {
   "codemirror_mode": {
    "name": "ipython",
    "version": 3
   },
   "file_extension": ".py",
   "mimetype": "text/x-python",
   "name": "python",
   "nbconvert_exporter": "python",
   "pygments_lexer": "ipython3",
   "version": "3.6.9"
  },
  "varInspector": {
   "cols": {
    "lenName": 16,
    "lenType": 16,
    "lenVar": 40
   },
   "kernels_config": {
    "python": {
     "delete_cmd_postfix": "",
     "delete_cmd_prefix": "del ",
     "library": "var_list.py",
     "varRefreshCmd": "print(var_dic_list())"
    },
    "r": {
     "delete_cmd_postfix": ") ",
     "delete_cmd_prefix": "rm(",
     "library": "var_list.r",
     "varRefreshCmd": "cat(var_dic_list()) "
    }
   },
   "types_to_exclude": [
    "module",
    "function",
    "builtin_function_or_method",
    "instance",
    "_Feature"
   ],
   "window_display": false
  }
 },
 "nbformat": 4,
 "nbformat_minor": 2
}
