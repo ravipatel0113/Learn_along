{
 "cells": [
  {
   "cell_type": "code",
   "execution_count": 1,
   "metadata": {},
   "outputs": [],
   "source": [
    "# Set the seed value for the notebook so the results are reproducible\n",
    "from numpy.random import seed\n",
    "seed(1)\n",
    "from tensorflow import random\n",
    "random.set_seed(1)"
   ]
  },
  {
   "cell_type": "code",
   "execution_count": 2,
   "metadata": {},
   "outputs": [],
   "source": [
    "%matplotlib inline\n",
    "import matplotlib.pyplot as plt\n",
    "import numpy as np\n",
    "import sklearn\n",
    "import sklearn.datasets"
   ]
  },
  {
   "cell_type": "code",
   "execution_count": 3,
   "metadata": {},
   "outputs": [],
   "source": [
    "# Create Data\n",
    "X, y = sklearn.datasets.make_circles(noise=0.05, factor=.2, random_state=1)"
   ]
  },
  {
   "cell_type": "code",
   "execution_count": 4,
   "metadata": {},
   "outputs": [
    {
     "data": {
      "text/plain": [
       "<matplotlib.collections.PathCollection at 0x1a47fcd1d0>"
      ]
     },
     "execution_count": 4,
     "metadata": {},
     "output_type": "execute_result"
    },
    {
     "data": {
      "image/png": "[encoded data removed]",
      "text/plain": [
       "<Figure size 432x288 with 1 Axes>"
      ]
     },
     "metadata": {
      "needs_background": "light"
     },
     "output_type": "display_data"
    }
   ],
   "source": [
    "# Visualize Data\n",
    "plt.scatter(X[:, 0], X[:, 1], c=y)"
   ]
  },
  {
   "cell_type": "code",
   "execution_count": 5,
   "metadata": {
    "nbgrader": {
     "grade": false,
     "grade_id": "cell-25fb99ba413a3271",
     "locked": false,
     "schema_version": 1,
     "solution": true
    }
   },
   "outputs": [],
   "source": [
    "# Use train_test_split to create training and testing data\n",
    "from sklearn.model_selection import train_test_split\n",
    "\n",
    "X_train, X_test, y_train, y_test = train_test_split(X, y, random_state=1)"
   ]
  },
  {
   "cell_type": "code",
   "execution_count": 6,
   "metadata": {
    "nbgrader": {
     "grade": false,
     "grade_id": "cell-7e1de5d9b7942f68",
     "locked": false,
     "schema_version": 1,
     "solution": true
    }
   },
   "outputs": [],
   "source": [
    "from sklearn.preprocessing import StandardScaler\n",
    "\n",
    "# Create a StandardScater model and fit it to the training data\n",
    "X_scaler = StandardScaler().fit(X_train)"
   ]
  },
  {
   "cell_type": "code",
   "execution_count": 7,
   "metadata": {
    "nbgrader": {
     "grade": false,
     "grade_id": "cell-9532e12246e485d5",
     "locked": false,
     "schema_version": 1,
     "solution": true
    }
   },
   "outputs": [],
   "source": [
    "# Transform the training and testing data using the X_scaler\n",
    "\n",
    "X_train_scaled = X_scaler.transform(X_train)\n",
    "X_test_scaled = X_scaler.transform(X_test)"
   ]
  },
  {
   "cell_type": "code",
   "execution_count": 8,
   "metadata": {},
   "outputs": [],
   "source": [
    "from tensorflow.keras.utils import to_categorical"
   ]
  },
  {
   "cell_type": "code",
   "execution_count": 9,
   "metadata": {},
   "outputs": [],
   "source": [
    "# One-hot encoding\n",
    "y_train_categorical = to_categorical(y_train)\n",
    "y_test_categorical = to_categorical(y_test)"
   ]
  },
  {
   "cell_type": "code",
   "execution_count": 10,
   "metadata": {
    "nbgrader": {
     "grade": false,
     "grade_id": "cell-ec399a95e133cb58",
     "locked": false,
     "schema_version": 1,
     "solution": true
    }
   },
   "outputs": [],
   "source": [
    "# first, create a normal neural network with 2 inputs, 6 hidden nodes, and 2 outputs\n",
    "from tensorflow.keras.models import Sequential\n",
    "from tensorflow.keras.layers import Dense\n",
    "\n",
    "model = Sequential()\n",
    "model.add(Dense(units=6, activation='relu', input_dim=2))\n",
    "model.add(Dense(units=2, activation='softmax'))"
   ]
  },
  {
   "cell_type": "code",
   "execution_count": 11,
   "metadata": {},
   "outputs": [
    {
     "name": "stdout",
     "output_type": "stream",
     "text": [
      "Model: \"sequential\"\n",
      "_________________________________________________________________\n",
      "Layer (type)                 Output Shape              Param #   \n",
      "=================================================================\n",
      "dense (Dense)                (None, 6)                 18        \n",
      "_________________________________________________________________\n",
      "dense_1 (Dense)              (None, 2)                 14        \n",
      "=================================================================\n",
      "Total params: 32\n",
      "Trainable params: 32\n",
      "Non-trainable params: 0\n",
      "_________________________________________________________________\n"
     ]
    }
   ],
   "source": [
    "model.summary()"
   ]
  },
  {
   "cell_type": "code",
   "execution_count": 12,
   "metadata": {},
   "outputs": [],
   "source": [
    "# Compile the model\n",
    "model.compile(optimizer='adam',\n",
    "              loss='categorical_crossentropy',\n",
    "              metrics=['accuracy'])"
   ]
  },
  {
   "cell_type": "code",
   "execution_count": 13,
   "metadata": {
    "nbgrader": {
     "grade": false,
     "grade_id": "cell-5cf2fbdbea0ed50b",
     "locked": false,
     "schema_version": 1,
     "solution": true
    }
   },
   "outputs": [
    {
     "name": "stdout",
     "output_type": "stream",
     "text": [
      "Train on 75 samples\n",
      "Epoch 1/100\n",
      "75/75 - 1s - loss: 0.8463 - accuracy: 0.4933\n",
      "Epoch 2/100\n",
      "75/75 - 0s - loss: 0.8404 - accuracy: 0.4667\n",
      "Epoch 3/100\n",
      "75/75 - 0s - loss: 0.8347 - accuracy: 0.4667\n",
      "Epoch 4/100\n",
      "75/75 - 0s - loss: 0.8296 - accuracy: 0.4400\n",
      "Epoch 5/100\n",
      "75/75 - 0s - loss: 0.8239 - accuracy: 0.4400\n",
      "Epoch 6/100\n",
      "75/75 - 0s - loss: 0.8188 - accuracy: 0.4267\n",
      "Epoch 7/100\n",
      "75/75 - 0s - loss: 0.8138 - accuracy: 0.4533\n",
      "Epoch 8/100\n",
      "75/75 - 0s - loss: 0.8094 - accuracy: 0.4267\n",
      "Epoch 9/100\n",
      "75/75 - 0s - loss: 0.8047 - accuracy: 0.3867\n",
      "Epoch 10/100\n",
      "75/75 - 0s - loss: 0.7996 - accuracy: 0.3333\n",
      "Epoch 11/100\n",
      "75/75 - 0s - loss: 0.7957 - accuracy: 0.2800\n",
      "Epoch 12/100\n",
      "75/75 - 0s - loss: 0.7910 - accuracy: 0.2667\n",
      "Epoch 13/100\n",
      "75/75 - 0s - loss: 0.7864 - accuracy: 0.2933\n",
      "Epoch 14/100\n",
      "75/75 - 0s - loss: 0.7830 - accuracy: 0.2800\n",
      "Epoch 15/100\n",
      "75/75 - 0s - loss: 0.7788 - accuracy: 0.2800\n",
      "Epoch 16/100\n",
      "75/75 - 0s - loss: 0.7750 - accuracy: 0.2933\n",
      "Epoch 17/100\n",
      "75/75 - 0s - loss: 0.7710 - accuracy: 0.2933\n",
      "Epoch 18/100\n",
      "75/75 - 0s - loss: 0.7676 - accuracy: 0.2667\n",
      "Epoch 19/100\n",
      "75/75 - 0s - loss: 0.7641 - accuracy: 0.2800\n",
      "Epoch 20/100\n",
      "75/75 - 0s - loss: 0.7608 - accuracy: 0.2933\n",
      "Epoch 21/100\n",
      "75/75 - 0s - loss: 0.7573 - accuracy: 0.2933\n",
      "Epoch 22/100\n",
      "75/75 - 0s - loss: 0.7542 - accuracy: 0.3067\n",
      "Epoch 23/100\n",
      "75/75 - 0s - loss: 0.7510 - accuracy: 0.3200\n",
      "Epoch 24/100\n",
      "75/75 - 0s - loss: 0.7481 - accuracy: 0.3067\n",
      "Epoch 25/100\n",
      "75/75 - 0s - loss: 0.7452 - accuracy: 0.3067\n",
      "Epoch 26/100\n",
      "75/75 - 0s - loss: 0.7418 - accuracy: 0.2933\n",
      "Epoch 27/100\n",
      "75/75 - 0s - loss: 0.7390 - accuracy: 0.2933\n",
      "Epoch 28/100\n",
      "75/75 - 0s - loss: 0.7359 - accuracy: 0.3067\n",
      "Epoch 29/100\n",
      "75/75 - 0s - loss: 0.7331 - accuracy: 0.3200\n",
      "Epoch 30/100\n",
      "75/75 - 0s - loss: 0.7304 - accuracy: 0.3200\n",
      "Epoch 31/100\n",
      "75/75 - 0s - loss: 0.7273 - accuracy: 0.3200\n",
      "Epoch 32/100\n",
      "75/75 - 0s - loss: 0.7250 - accuracy: 0.3067\n",
      "Epoch 33/100\n",
      "75/75 - 0s - loss: 0.7217 - accuracy: 0.3067\n",
      "Epoch 34/100\n",
      "75/75 - 0s - loss: 0.7191 - accuracy: 0.3067\n",
      "Epoch 35/100\n",
      "75/75 - 0s - loss: 0.7163 - accuracy: 0.3067\n",
      "Epoch 36/100\n",
      "75/75 - 0s - loss: 0.7136 - accuracy: 0.3200\n",
      "Epoch 37/100\n",
      "75/75 - 0s - loss: 0.7110 - accuracy: 0.3067\n",
      "Epoch 38/100\n",
      "75/75 - 0s - loss: 0.7085 - accuracy: 0.3067\n",
      "Epoch 39/100\n",
      "75/75 - 0s - loss: 0.7059 - accuracy: 0.3067\n",
      "Epoch 40/100\n",
      "75/75 - 0s - loss: 0.7033 - accuracy: 0.3067\n",
      "Epoch 41/100\n",
      "75/75 - 0s - loss: 0.7008 - accuracy: 0.3067\n",
      "Epoch 42/100\n",
      "75/75 - 0s - loss: 0.6984 - accuracy: 0.3200\n",
      "Epoch 43/100\n",
      "75/75 - 0s - loss: 0.6959 - accuracy: 0.3200\n",
      "Epoch 44/100\n",
      "75/75 - 0s - loss: 0.6933 - accuracy: 0.3200\n",
      "Epoch 45/100\n",
      "75/75 - 0s - loss: 0.6911 - accuracy: 0.3200\n",
      "Epoch 46/100\n",
      "75/75 - 0s - loss: 0.6884 - accuracy: 0.3200\n",
      "Epoch 47/100\n",
      "75/75 - 0s - loss: 0.6860 - accuracy: 0.3333\n",
      "Epoch 48/100\n",
      "75/75 - 0s - loss: 0.6837 - accuracy: 0.3333\n",
      "Epoch 49/100\n",
      "75/75 - 0s - loss: 0.6814 - accuracy: 0.3333\n",
      "Epoch 50/100\n",
      "75/75 - 0s - loss: 0.6790 - accuracy: 0.3333\n",
      "Epoch 51/100\n",
      "75/75 - 0s - loss: 0.6768 - accuracy: 0.3467\n",
      "Epoch 52/100\n",
      "75/75 - 0s - loss: 0.6746 - accuracy: 0.3467\n",
      "Epoch 53/100\n",
      "75/75 - 0s - loss: 0.6723 - accuracy: 0.3467\n",
      "Epoch 54/100\n",
      "75/75 - 0s - loss: 0.6701 - accuracy: 0.3467\n",
      "Epoch 55/100\n",
      "75/75 - 0s - loss: 0.6680 - accuracy: 0.3467\n",
      "Epoch 56/100\n",
      "75/75 - 0s - loss: 0.6658 - accuracy: 0.3467\n",
      "Epoch 57/100\n",
      "75/75 - 0s - loss: 0.6637 - accuracy: 0.3467\n",
      "Epoch 58/100\n",
      "75/75 - 0s - loss: 0.6616 - accuracy: 0.3600\n",
      "Epoch 59/100\n",
      "75/75 - 0s - loss: 0.6596 - accuracy: 0.3600\n",
      "Epoch 60/100\n",
      "75/75 - 0s - loss: 0.6575 - accuracy: 0.3600\n",
      "Epoch 61/100\n",
      "75/75 - 0s - loss: 0.6556 - accuracy: 0.3600\n",
      "Epoch 62/100\n",
      "75/75 - 0s - loss: 0.6537 - accuracy: 0.3600\n",
      "Epoch 63/100\n",
      "75/75 - 0s - loss: 0.6517 - accuracy: 0.3733\n",
      "Epoch 64/100\n",
      "75/75 - 0s - loss: 0.6498 - accuracy: 0.4133\n",
      "Epoch 65/100\n",
      "75/75 - 0s - loss: 0.6478 - accuracy: 0.4133\n",
      "Epoch 66/100\n",
      "75/75 - 0s - loss: 0.6459 - accuracy: 0.4267\n",
      "Epoch 67/100\n",
      "75/75 - 0s - loss: 0.6440 - accuracy: 0.4267\n",
      "Epoch 68/100\n",
      "75/75 - 0s - loss: 0.6422 - accuracy: 0.4533\n",
      "Epoch 69/100\n",
      "75/75 - 0s - loss: 0.6403 - accuracy: 0.4667\n",
      "Epoch 70/100\n",
      "75/75 - 0s - loss: 0.6384 - accuracy: 0.4533\n",
      "Epoch 71/100\n",
      "75/75 - 0s - loss: 0.6365 - accuracy: 0.4533\n",
      "Epoch 72/100\n",
      "75/75 - 0s - loss: 0.6347 - accuracy: 0.4933\n",
      "Epoch 73/100\n",
      "75/75 - 0s - loss: 0.6328 - accuracy: 0.5067\n",
      "Epoch 74/100\n",
      "75/75 - 0s - loss: 0.6309 - accuracy: 0.5200\n",
      "Epoch 75/100\n",
      "75/75 - 0s - loss: 0.6290 - accuracy: 0.5467\n",
      "Epoch 76/100\n",
      "75/75 - 0s - loss: 0.6272 - accuracy: 0.5867\n",
      "Epoch 77/100\n",
      "75/75 - 0s - loss: 0.6253 - accuracy: 0.5867\n",
      "Epoch 78/100\n",
      "75/75 - 0s - loss: 0.6234 - accuracy: 0.6133\n",
      "Epoch 79/100\n",
      "75/75 - 0s - loss: 0.6215 - accuracy: 0.6267\n",
      "Epoch 80/100\n",
      "75/75 - 0s - loss: 0.6196 - accuracy: 0.6267\n",
      "Epoch 81/100\n",
      "75/75 - 0s - loss: 0.6178 - accuracy: 0.6400\n",
      "Epoch 82/100\n",
      "75/75 - 0s - loss: 0.6160 - accuracy: 0.6267\n",
      "Epoch 83/100\n",
      "75/75 - 0s - loss: 0.6141 - accuracy: 0.6133\n",
      "Epoch 84/100\n",
      "75/75 - 0s - loss: 0.6124 - accuracy: 0.6133\n",
      "Epoch 85/100\n",
      "75/75 - 0s - loss: 0.6106 - accuracy: 0.6133\n",
      "Epoch 86/100\n",
      "75/75 - 0s - loss: 0.6087 - accuracy: 0.6000\n",
      "Epoch 87/100\n",
      "75/75 - 0s - loss: 0.6070 - accuracy: 0.6000\n",
      "Epoch 88/100\n",
      "75/75 - 0s - loss: 0.6051 - accuracy: 0.6000\n",
      "Epoch 89/100\n",
      "75/75 - 0s - loss: 0.6033 - accuracy: 0.6133\n",
      "Epoch 90/100\n",
      "75/75 - 0s - loss: 0.6015 - accuracy: 0.6267\n",
      "Epoch 91/100\n",
      "75/75 - 0s - loss: 0.5997 - accuracy: 0.6267\n",
      "Epoch 92/100\n",
      "75/75 - 0s - loss: 0.5979 - accuracy: 0.6400\n",
      "Epoch 93/100\n",
      "75/75 - 0s - loss: 0.5962 - accuracy: 0.6400\n",
      "Epoch 94/100\n",
      "75/75 - 0s - loss: 0.5943 - accuracy: 0.6533\n",
      "Epoch 95/100\n",
      "75/75 - 0s - loss: 0.5926 - accuracy: 0.6533\n",
      "Epoch 96/100\n",
      "75/75 - 0s - loss: 0.5908 - accuracy: 0.6667\n",
      "Epoch 97/100\n",
      "75/75 - 0s - loss: 0.5891 - accuracy: 0.6800\n",
      "Epoch 98/100\n",
      "75/75 - 0s - loss: 0.5873 - accuracy: 0.6800\n",
      "Epoch 99/100\n",
      "75/75 - 0s - loss: 0.5856 - accuracy: 0.6933\n",
      "Epoch 100/100\n",
      "75/75 - 0s - loss: 0.5838 - accuracy: 0.6933\n"
     ]
    },
    {
     "data": {
      "text/plain": [
       "<tensorflow.python.keras.callbacks.History at 0x1a4845f4d0>"
      ]
     },
     "execution_count": 13,
     "metadata": {},
     "output_type": "execute_result"
    }
   ],
   "source": [
    "# Fit the model to the training data\n",
    "model.fit(\n",
    "    X_train_scaled,\n",
    "    y_train_categorical,\n",
    "    epochs=100,\n",
    "    shuffle=True,\n",
    "    verbose=2\n",
    ")"
   ]
  },
  {
   "cell_type": "markdown",
   "metadata": {},
   "source": [
    "# Deep Learning\n",
    "For this network, we simply add an additional hidden layer of 6 nodes"
   ]
  },
  {
   "cell_type": "code",
   "execution_count": 14,
   "metadata": {},
   "outputs": [],
   "source": [
    "deep_model = Sequential()\n",
    "deep_model.add(Dense(units=6, activation='relu', input_dim=2))\n",
    "deep_model.add(Dense(units=6, activation='relu'))\n",
    "deep_model.add(Dense(units=2, activation='softmax'))"
   ]
  },
  {
   "cell_type": "code",
   "execution_count": 15,
   "metadata": {},
   "outputs": [
    {
     "name": "stdout",
     "output_type": "stream",
     "text": [
      "Model: \"sequential_1\"\n",
      "_________________________________________________________________\n",
      "Layer (type)                 Output Shape              Param #   \n",
      "=================================================================\n",
      "dense_2 (Dense)              (None, 6)                 18        \n",
      "_________________________________________________________________\n",
      "dense_3 (Dense)              (None, 6)                 42        \n",
      "_________________________________________________________________\n",
      "dense_4 (Dense)              (None, 2)                 14        \n",
      "=================================================================\n",
      "Total params: 74\n",
      "Trainable params: 74\n",
      "Non-trainable params: 0\n",
      "_________________________________________________________________\n"
     ]
    }
   ],
   "source": [
    "deep_model.summary()"
   ]
  },
  {
   "cell_type": "code",
   "execution_count": 16,
   "metadata": {},
   "outputs": [
    {
     "name": "stdout",
     "output_type": "stream",
     "text": [
      "Train on 75 samples\n",
      "Epoch 1/100\n",
      "75/75 - 1s - loss: 0.7093 - accuracy: 0.5333\n",
      "Epoch 2/100\n",
      "75/75 - 0s - loss: 0.7063 - accuracy: 0.5200\n",
      "Epoch 3/100\n",
      "75/75 - 0s - loss: 0.7030 - accuracy: 0.4933\n",
      "Epoch 4/100\n",
      "75/75 - 0s - loss: 0.7003 - accuracy: 0.4933\n",
      "Epoch 5/100\n",
      "75/75 - 0s - loss: 0.6974 - accuracy: 0.4533\n",
      "Epoch 6/100\n",
      "75/75 - 0s - loss: 0.6946 - accuracy: 0.4533\n",
      "Epoch 7/100\n",
      "75/75 - 0s - loss: 0.6920 - accuracy: 0.4400\n",
      "Epoch 8/100\n",
      "75/75 - 0s - loss: 0.6894 - accuracy: 0.4133\n",
      "Epoch 9/100\n",
      "75/75 - 0s - loss: 0.6871 - accuracy: 0.4000\n",
      "Epoch 10/100\n",
      "75/75 - 0s - loss: 0.6846 - accuracy: 0.3733\n",
      "Epoch 11/100\n",
      "75/75 - 0s - loss: 0.6825 - accuracy: 0.4133\n",
      "Epoch 12/100\n",
      "75/75 - 0s - loss: 0.6802 - accuracy: 0.4000\n",
      "Epoch 13/100\n",
      "75/75 - 0s - loss: 0.6780 - accuracy: 0.4133\n",
      "Epoch 14/100\n",
      "75/75 - 0s - loss: 0.6763 - accuracy: 0.4267\n",
      "Epoch 15/100\n",
      "75/75 - 0s - loss: 0.6740 - accuracy: 0.4267\n",
      "Epoch 16/100\n",
      "75/75 - 0s - loss: 0.6721 - accuracy: 0.4400\n",
      "Epoch 17/100\n",
      "75/75 - 0s - loss: 0.6701 - accuracy: 0.4667\n",
      "Epoch 18/100\n",
      "75/75 - 0s - loss: 0.6681 - accuracy: 0.4667\n",
      "Epoch 19/100\n",
      "75/75 - 0s - loss: 0.6664 - accuracy: 0.4933\n",
      "Epoch 20/100\n",
      "75/75 - 0s - loss: 0.6646 - accuracy: 0.4933\n",
      "Epoch 21/100\n",
      "75/75 - 0s - loss: 0.6626 - accuracy: 0.4933\n",
      "Epoch 22/100\n",
      "75/75 - 0s - loss: 0.6609 - accuracy: 0.4933\n",
      "Epoch 23/100\n",
      "75/75 - 0s - loss: 0.6591 - accuracy: 0.4933\n",
      "Epoch 24/100\n",
      "75/75 - 0s - loss: 0.6574 - accuracy: 0.4933\n",
      "Epoch 25/100\n",
      "75/75 - 0s - loss: 0.6557 - accuracy: 0.4933\n",
      "Epoch 26/100\n",
      "75/75 - 0s - loss: 0.6539 - accuracy: 0.4933\n",
      "Epoch 27/100\n",
      "75/75 - 0s - loss: 0.6522 - accuracy: 0.4933\n",
      "Epoch 28/100\n",
      "75/75 - 0s - loss: 0.6505 - accuracy: 0.4933\n",
      "Epoch 29/100\n",
      "75/75 - 0s - loss: 0.6489 - accuracy: 0.4933\n",
      "Epoch 30/100\n",
      "75/75 - 0s - loss: 0.6471 - accuracy: 0.4933\n",
      "Epoch 31/100\n",
      "75/75 - 0s - loss: 0.6453 - accuracy: 0.4933\n",
      "Epoch 32/100\n",
      "75/75 - 0s - loss: 0.6437 - accuracy: 0.4933\n",
      "Epoch 33/100\n",
      "75/75 - 0s - loss: 0.6418 - accuracy: 0.4933\n",
      "Epoch 34/100\n",
      "75/75 - 0s - loss: 0.6402 - accuracy: 0.4933\n",
      "Epoch 35/100\n",
      "75/75 - 0s - loss: 0.6383 - accuracy: 0.4933\n",
      "Epoch 36/100\n",
      "75/75 - 0s - loss: 0.6366 - accuracy: 0.4933\n",
      "Epoch 37/100\n",
      "75/75 - 0s - loss: 0.6351 - accuracy: 0.4933\n",
      "Epoch 38/100\n",
      "75/75 - 0s - loss: 0.6333 - accuracy: 0.5200\n",
      "Epoch 39/100\n",
      "75/75 - 0s - loss: 0.6316 - accuracy: 0.5333\n",
      "Epoch 40/100\n",
      "75/75 - 0s - loss: 0.6300 - accuracy: 0.5867\n",
      "Epoch 41/100\n",
      "75/75 - 0s - loss: 0.6283 - accuracy: 0.6000\n",
      "Epoch 42/100\n",
      "75/75 - 0s - loss: 0.6265 - accuracy: 0.6267\n",
      "Epoch 43/100\n",
      "75/75 - 0s - loss: 0.6245 - accuracy: 0.6267\n",
      "Epoch 44/100\n",
      "75/75 - 0s - loss: 0.6225 - accuracy: 0.6267\n",
      "Epoch 45/100\n",
      "75/75 - 0s - loss: 0.6207 - accuracy: 0.6267\n",
      "Epoch 46/100\n",
      "75/75 - 0s - loss: 0.6183 - accuracy: 0.6267\n",
      "Epoch 47/100\n",
      "75/75 - 0s - loss: 0.6161 - accuracy: 0.6400\n",
      "Epoch 48/100\n",
      "75/75 - 0s - loss: 0.6141 - accuracy: 0.6533\n",
      "Epoch 49/100\n",
      "75/75 - 0s - loss: 0.6117 - accuracy: 0.6533\n",
      "Epoch 50/100\n",
      "75/75 - 0s - loss: 0.6096 - accuracy: 0.6667\n",
      "Epoch 51/100\n",
      "75/75 - 0s - loss: 0.6073 - accuracy: 0.7067\n",
      "Epoch 52/100\n",
      "75/75 - 0s - loss: 0.6049 - accuracy: 0.7200\n",
      "Epoch 53/100\n",
      "75/75 - 0s - loss: 0.6026 - accuracy: 0.7467\n",
      "Epoch 54/100\n",
      "75/75 - 0s - loss: 0.6001 - accuracy: 0.7600\n",
      "Epoch 55/100\n",
      "75/75 - 0s - loss: 0.5979 - accuracy: 0.7867\n",
      "Epoch 56/100\n",
      "75/75 - 0s - loss: 0.5954 - accuracy: 0.8000\n",
      "Epoch 57/100\n",
      "75/75 - 0s - loss: 0.5929 - accuracy: 0.8000\n",
      "Epoch 58/100\n",
      "75/75 - 0s - loss: 0.5904 - accuracy: 0.8000\n",
      "Epoch 59/100\n",
      "75/75 - 0s - loss: 0.5880 - accuracy: 0.8000\n",
      "Epoch 60/100\n",
      "75/75 - 0s - loss: 0.5855 - accuracy: 0.8000\n",
      "Epoch 61/100\n",
      "75/75 - 0s - loss: 0.5832 - accuracy: 0.8000\n",
      "Epoch 62/100\n",
      "75/75 - 0s - loss: 0.5807 - accuracy: 0.8133\n",
      "Epoch 63/100\n",
      "75/75 - 0s - loss: 0.5780 - accuracy: 0.8133\n",
      "Epoch 64/100\n",
      "75/75 - 0s - loss: 0.5754 - accuracy: 0.8267\n",
      "Epoch 65/100\n",
      "75/75 - 0s - loss: 0.5729 - accuracy: 0.8267\n",
      "Epoch 66/100\n",
      "75/75 - 0s - loss: 0.5702 - accuracy: 0.8400\n",
      "Epoch 67/100\n",
      "75/75 - 0s - loss: 0.5676 - accuracy: 0.8533\n",
      "Epoch 68/100\n",
      "75/75 - 0s - loss: 0.5649 - accuracy: 0.8533\n",
      "Epoch 69/100\n",
      "75/75 - 0s - loss: 0.5623 - accuracy: 0.8533\n",
      "Epoch 70/100\n",
      "75/75 - 0s - loss: 0.5596 - accuracy: 0.8533\n",
      "Epoch 71/100\n",
      "75/75 - 0s - loss: 0.5570 - accuracy: 0.8533\n",
      "Epoch 72/100\n",
      "75/75 - 0s - loss: 0.5543 - accuracy: 0.8533\n",
      "Epoch 73/100\n",
      "75/75 - 0s - loss: 0.5516 - accuracy: 0.8533\n",
      "Epoch 74/100\n",
      "75/75 - 0s - loss: 0.5489 - accuracy: 0.8533\n",
      "Epoch 75/100\n",
      "75/75 - 0s - loss: 0.5461 - accuracy: 0.8533\n",
      "Epoch 76/100\n",
      "75/75 - 0s - loss: 0.5435 - accuracy: 0.8533\n",
      "Epoch 77/100\n",
      "75/75 - 0s - loss: 0.5406 - accuracy: 0.8533\n",
      "Epoch 78/100\n",
      "75/75 - 0s - loss: 0.5379 - accuracy: 0.8533\n",
      "Epoch 79/100\n",
      "75/75 - 0s - loss: 0.5350 - accuracy: 0.8533\n",
      "Epoch 80/100\n",
      "75/75 - 0s - loss: 0.5322 - accuracy: 0.8667\n",
      "Epoch 81/100\n",
      "75/75 - 0s - loss: 0.5294 - accuracy: 0.8667\n",
      "Epoch 82/100\n",
      "75/75 - 0s - loss: 0.5265 - accuracy: 0.8800\n",
      "Epoch 83/100\n",
      "75/75 - 0s - loss: 0.5237 - accuracy: 0.8800\n",
      "Epoch 84/100\n",
      "75/75 - 0s - loss: 0.5208 - accuracy: 0.8800\n",
      "Epoch 85/100\n",
      "75/75 - 0s - loss: 0.5179 - accuracy: 0.8800\n",
      "Epoch 86/100\n",
      "75/75 - 0s - loss: 0.5151 - accuracy: 0.8800\n",
      "Epoch 87/100\n",
      "75/75 - 0s - loss: 0.5120 - accuracy: 0.8800\n",
      "Epoch 88/100\n",
      "75/75 - 0s - loss: 0.5091 - accuracy: 0.8933\n",
      "Epoch 89/100\n",
      "75/75 - 0s - loss: 0.5061 - accuracy: 0.8933\n",
      "Epoch 90/100\n",
      "75/75 - 0s - loss: 0.5031 - accuracy: 0.8933\n",
      "Epoch 91/100\n",
      "75/75 - 0s - loss: 0.5000 - accuracy: 0.8933\n",
      "Epoch 92/100\n",
      "75/75 - 0s - loss: 0.4968 - accuracy: 0.8933\n",
      "Epoch 93/100\n",
      "75/75 - 0s - loss: 0.4937 - accuracy: 0.8933\n",
      "Epoch 94/100\n",
      "75/75 - 0s - loss: 0.4906 - accuracy: 0.8933\n",
      "Epoch 95/100\n",
      "75/75 - 0s - loss: 0.4874 - accuracy: 0.8933\n",
      "Epoch 96/100\n",
      "75/75 - 0s - loss: 0.4842 - accuracy: 0.8933\n",
      "Epoch 97/100\n",
      "75/75 - 0s - loss: 0.4810 - accuracy: 0.9067\n",
      "Epoch 98/100\n",
      "75/75 - 0s - loss: 0.4779 - accuracy: 0.9067\n",
      "Epoch 99/100\n",
      "75/75 - 0s - loss: 0.4747 - accuracy: 0.9067\n",
      "Epoch 100/100\n",
      "75/75 - 0s - loss: 0.4717 - accuracy: 0.9067\n"
     ]
    },
    {
     "data": {
      "text/plain": [
       "<tensorflow.python.keras.callbacks.History at 0x1a49621390>"
      ]
     },
     "execution_count": 16,
     "metadata": {},
     "output_type": "execute_result"
    }
   ],
   "source": [
    "deep_model.compile(optimizer='adam',\n",
    "                   loss='categorical_crossentropy',\n",
    "                   metrics=['accuracy'])\n",
    "\n",
    "deep_model.fit(\n",
    "    X_train_scaled,\n",
    "    y_train_categorical,\n",
    "    epochs=100,\n",
    "    shuffle=True,\n",
    "    verbose=2\n",
    ")"
   ]
  },
  {
   "cell_type": "markdown",
   "metadata": {},
   "source": [
    "# Compare the models below"
   ]
  },
  {
   "cell_type": "code",
   "execution_count": 17,
   "metadata": {},
   "outputs": [
    {
     "name": "stdout",
     "output_type": "stream",
     "text": [
      "25/1 - 0s - loss: 0.5983 - accuracy: 0.6800\n",
      "Normal Neural Network - Loss: 0.5982556343078613, Accuracy: 0.6800000071525574\n"
     ]
    }
   ],
   "source": [
    "model_loss, model_accuracy = model.evaluate(\n",
    "    X_test_scaled, y_test_categorical, verbose=2)\n",
    "print(\n",
    "    f\"Normal Neural Network - Loss: {model_loss}, Accuracy: {model_accuracy}\")"
   ]
  },
  {
   "cell_type": "code",
   "execution_count": 18,
   "metadata": {},
   "outputs": [
    {
     "name": "stdout",
     "output_type": "stream",
     "text": [
      "25/1 - 0s - loss: 0.5328 - accuracy: 0.9200\n",
      "Deep Neural Network - Loss: 0.532782793045044, Accuracy: 0.9200000166893005\n"
     ]
    }
   ],
   "source": [
    "model_loss, model_accuracy = deep_model.evaluate(\n",
    "    X_test_scaled, y_test_categorical, verbose=2)\n",
    "print(f\"Deep Neural Network - Loss: {model_loss}, Accuracy: {model_accuracy}\")"
   ]
  },
  {
   "cell_type": "markdown",
   "metadata": {},
   "source": [
    "# In a nutshell..."
   ]
  },
  {
   "cell_type": "markdown",
   "metadata": {},
   "source": [
    "![stack more layers](../Images/stack-more-layers.jpg)"
   ]
  }
 ],
 "metadata": {
  "anaconda-cloud": {},
  "kernelspec": {
   "display_name": "Python 3",
   "language": "python",
   "name": "python3"
  },
  "language_info": {
   "codemirror_mode": {
    "name": "ipython",
    "version": 3
   },
   "file_extension": ".py",
   "mimetype": "text/x-python",
   "name": "python",
   "nbconvert_exporter": "python",
   "pygments_lexer": "ipython3",
   "version": "3.7.4"
  },
  "varInspector": {
   "cols": {
    "lenName": 16,
    "lenType": 16,
    "lenVar": 40
   },
   "kernels_config": {
    "python": {
     "delete_cmd_postfix": "",
     "delete_cmd_prefix": "del ",
     "library": "var_list.py",
     "varRefreshCmd": "print(var_dic_list())"
    },
    "r": {
     "delete_cmd_postfix": ") ",
     "delete_cmd_prefix": "rm(",
     "library": "var_list.r",
     "varRefreshCmd": "cat(var_dic_list()) "
    }
   },
   "types_to_exclude": [
    "module",
    "function",
    "builtin_function_or_method",
    "instance",
    "_Feature"
   ],
   "window_display": false
  }
 },
 "nbformat": 4,
 "nbformat_minor": 2
}
