{
  "nbformat": 4,
  "nbformat_minor": 0,
  "metadata": {
    "anaconda-cloud": {},
    "colab": {
      "name": "spark_dates.ipynb",
      "provenance": [],
      "collapsed_sections": []
    },
    "kernel_info": {
      "name": "python3"
    },
    "kernelspec": {
      "display_name": "Python 3",
      "language": "python",
      "name": "python3"
    },
    "language_info": {
      "codemirror_mode": {
        "name": "ipython",
        "version": 3
      },
      "file_extension": ".py",
      "mimetype": "text/x-python",
      "name": "python",
      "nbconvert_exporter": "python",
      "pygments_lexer": "ipython3",
      "version": "3.8.3"
    },
    "nteract": {
      "version": "0.11.2"
    },
    "varInspector": {
      "cols": {
        "lenName": 16,
        "lenType": 16,
        "lenVar": 40
      },
      "kernels_config": {
        "python": {
          "delete_cmd_postfix": "",
          "delete_cmd_prefix": "del ",
          "library": "var_list.py",
          "varRefreshCmd": "print(var_dic_list())"
        },
        "r": {
          "delete_cmd_postfix": ") ",
          "delete_cmd_prefix": "rm(",
          "library": "var_list.r",
          "varRefreshCmd": "cat(var_dic_list()) "
        }
      },
      "types_to_exclude": [
        "module",
        "function",
        "builtin_function_or_method",
        "instance",
        "_Feature"
      ],
      "window_display": false
    }
  },
  "cells": [
    {
      "cell_type": "code",
      "metadata": {
        "colab": {
          "base_uri": "https://localhost:8080/"
        },
        "id": "7kufI1HuEzk5",
        "outputId": "9ab8f7a1-8010-499f-aa62-24e71a292393"
      },
      "source": [
        "import os\n",
        "# Find the latest version of spark 3.0  from http://www-us.apache.org/dist/spark/ and enter as the spark version\n",
        "# For example:\n",
        "# spark_version = 'spark-3.0.2'\n",
        "spark_version = 'spark-<enter version>'\n",
        "os.environ['SPARK_VERSION']=spark_version\n",
        "\n",
        "# Install Spark and Java\n",
        "!apt-get update\n",
        "!apt-get install openjdk-11-jdk-headless -qq > /dev/null\n",
        "!wget -q http://www-us.apache.org/dist/spark/$SPARK_VERSION/$SPARK_VERSION-bin-hadoop2.7.tgz\n",
        "!tar xf $SPARK_VERSION-bin-hadoop2.7.tgz\n",
        "!pip install -q findspark\n",
        "\n",
        "# Set Environment Variables\n",
        "os.environ[\"JAVA_HOME\"] = \"/usr/lib/jvm/java-11-openjdk-amd64\"\n",
        "os.environ[\"SPARK_HOME\"] = f\"/content/{spark_version}-bin-hadoop2.7\"\n",
        "\n",
        "# Start a SparkSession\n",
        "import findspark\n",
        "findspark.init()"
      ],
      "execution_count": null,
      "outputs": [
        {
          "output_type": "stream",
          "text": [
            "\r0% [Working]\r            \rGet:1 http://security.ubuntu.com/ubuntu bionic-security InRelease [88.7 kB]\n",
            "\r0% [Connecting to archive.ubuntu.com (91.189.88.152)] [1 InRelease 14.2 kB/88.7\r0% [Connecting to archive.ubuntu.com (91.189.88.152)] [Waiting for headers] [Co\r0% [1 InRelease gpgv 88.7 kB] [Connecting to archive.ubuntu.com (91.189.88.152)\r                                                                               \rGet:2 https://cloud.r-project.org/bin/linux/ubuntu bionic-cran40/ InRelease [3,626 B]\n",
            "\r0% [1 InRelease gpgv 88.7 kB] [Waiting for headers] [Waiting for headers] [Wait\r                                                                               \rIgn:3 https://developer.download.nvidia.com/compute/cuda/repos/ubuntu1804/x86_64  InRelease\n",
            "\r0% [1 InRelease gpgv 88.7 kB] [Waiting for headers] [Waiting for headers] [Wait\r                                                                               \rGet:4 http://ppa.launchpad.net/c2d4u.team/c2d4u4.0+/ubuntu bionic InRelease [15.9 kB]\n",
            "\r0% [1 InRelease gpgv 88.7 kB] [Waiting for headers] [4 InRelease 2,572 B/15.9 k\r                                                                               \rHit:5 http://archive.ubuntu.com/ubuntu bionic InRelease\n",
            "\r0% [1 InRelease gpgv 88.7 kB] [Waiting for headers] [4 InRelease 8,364 B/15.9 k\r                                                                               \rIgn:6 https://developer.download.nvidia.com/compute/machine-learning/repos/ubuntu1804/x86_64  InRelease\n",
            "\r0% [1 InRelease gpgv 88.7 kB] [Waiting for headers] [4 InRelease 14.2 kB/15.9 k\r                                                                               \rGet:7 https://developer.download.nvidia.com/compute/cuda/repos/ubuntu1804/x86_64  Release [697 B]\n",
            "\r0% [1 InRelease gpgv 88.7 kB] [Waiting for headers] [4 InRelease 14.2 kB/15.9 k\r0% [1 InRelease gpgv 88.7 kB] [Waiting for headers] [4 InRelease 14.2 kB/15.9 k\r                                                                               \rHit:8 https://developer.download.nvidia.com/compute/machine-learning/repos/ubuntu1804/x86_64  Release\n",
            "Get:9 https://developer.download.nvidia.com/compute/cuda/repos/ubuntu1804/x86_64  Release.gpg [836 B]\n",
            "Get:10 http://archive.ubuntu.com/ubuntu bionic-updates InRelease [88.7 kB]\n",
            "Get:11 http://security.ubuntu.com/ubuntu bionic-security/main amd64 Packages [2,119 kB]\n",
            "Hit:12 http://ppa.launchpad.net/cran/libgit2/ubuntu bionic InRelease\n",
            "Get:13 http://archive.ubuntu.com/ubuntu bionic-backports InRelease [74.6 kB]\n",
            "Get:14 http://security.ubuntu.com/ubuntu bionic-security/universe amd64 Packages [1,410 kB]\n",
            "Hit:15 http://ppa.launchpad.net/deadsnakes/ppa/ubuntu bionic InRelease\n",
            "Get:16 https://cloud.r-project.org/bin/linux/ubuntu bionic-cran40/ Packages [55.5 kB]\n",
            "Get:17 http://ppa.launchpad.net/graphics-drivers/ppa/ubuntu bionic InRelease [21.3 kB]\n",
            "Ign:19 https://developer.download.nvidia.com/compute/cuda/repos/ubuntu1804/x86_64  Packages\n",
            "Get:19 https://developer.download.nvidia.com/compute/cuda/repos/ubuntu1804/x86_64  Packages [770 kB]\n",
            "Get:20 http://ppa.launchpad.net/c2d4u.team/c2d4u4.0+/ubuntu bionic/main Sources [1,759 kB]\n",
            "Get:21 http://archive.ubuntu.com/ubuntu bionic-updates/main amd64 Packages [2,550 kB]\n",
            "Get:22 http://ppa.launchpad.net/c2d4u.team/c2d4u4.0+/ubuntu bionic/main amd64 Packages [900 kB]\n",
            "Get:23 http://archive.ubuntu.com/ubuntu bionic-updates/universe amd64 Packages [2,182 kB]\n",
            "Get:24 http://ppa.launchpad.net/graphics-drivers/ppa/ubuntu bionic/main amd64 Packages [41.5 kB]\n",
            "Fetched 12.1 MB in 3s (3,807 kB/s)\n",
            "Reading package lists... Done\n"
          ],
          "name": "stdout"
        }
      ]
    },
    {
      "cell_type": "code",
      "metadata": {
        "id": "ADYQdkdUSAnn"
      },
      "source": [
        "# Start Spark session\n",
        "from pyspark.sql import SparkSession\n",
        "spark = SparkSession.builder.appName(\"sparkDates\").getOrCreate()"
      ],
      "execution_count": null,
      "outputs": []
    },
    {
      "cell_type": "code",
      "metadata": {
        "colab": {
          "base_uri": "https://localhost:8080/"
        },
        "id": "6CdXs43NC-oE",
        "outputId": "b618cfe9-cda3-4ab2-b5d7-8ffd4f38da6b"
      },
      "source": [
        "# Load in data\n",
        "from pyspark import SparkFiles\n",
        "url =\"https://s3.amazonaws.com/dataviz-curriculum/day_1/rainfall.csv\"\n",
        "spark.sparkContext.addFile(url)\n",
        "df = spark.read.csv(SparkFiles.get(\"rainfall.csv\"), sep=\",\", header=True, inferSchema=True)\n",
        "df.show()"
      ],
      "execution_count": null,
      "outputs": [
        {
          "output_type": "stream",
          "text": [
            "+-----------+----------+----+----+\n",
            "|    station|      date|prcp|tobs|\n",
            "+-----------+----------+----+----+\n",
            "|USC00519397|2010-01-01|0.08|  65|\n",
            "|USC00519397|2010-01-02| 0.0|  63|\n",
            "|USC00519397|2010-01-03| 0.0|  74|\n",
            "|USC00519397|2010-01-04| 0.0|  76|\n",
            "|USC00519397|2010-01-07|0.06|  70|\n",
            "|USC00519397|2010-01-08| 0.0|  64|\n",
            "|USC00519397|2010-01-09| 0.0|  68|\n",
            "|USC00519397|2010-01-10| 0.0|  73|\n",
            "|USC00519397|2010-01-11|0.01|  64|\n",
            "|USC00519397|2010-01-12| 0.0|  61|\n",
            "|USC00519397|2010-01-14| 0.0|  66|\n",
            "|USC00519397|2010-01-15| 0.0|  65|\n",
            "|USC00519397|2010-01-16| 0.0|  68|\n",
            "|USC00519397|2010-01-17| 0.0|  64|\n",
            "|USC00519397|2010-01-18| 0.0|  72|\n",
            "|USC00519397|2010-01-19| 0.0|  66|\n",
            "|USC00519397|2010-01-20| 0.0|  66|\n",
            "|USC00519397|2010-01-21| 0.0|  69|\n",
            "|USC00519397|2010-01-22| 0.0|  67|\n",
            "|USC00519397|2010-01-23| 0.0|  67|\n",
            "+-----------+----------+----+----+\n",
            "only showing top 20 rows\n",
            "\n"
          ],
          "name": "stdout"
        }
      ]
    },
    {
      "cell_type": "code",
      "metadata": {
        "colab": {
          "base_uri": "https://localhost:8080/"
        },
        "id": "GyQdshMZXtFz",
        "outputId": "4b72885d-2ae3-4b2c-d0e7-b80b4ebcbd99"
      },
      "source": [
        "from pyspark.sql.types import TimestampType\n",
        "df = df.withColumn('date', df['date'].cast(TimestampType()))\n",
        "df.show()"
      ],
      "execution_count": null,
      "outputs": [
        {
          "output_type": "stream",
          "text": [
            "+-----------+-------------------+----+----+\n",
            "|    station|               date|prcp|tobs|\n",
            "+-----------+-------------------+----+----+\n",
            "|USC00519397|2010-01-01 00:00:00|0.08|  65|\n",
            "|USC00519397|2010-01-02 00:00:00| 0.0|  63|\n",
            "|USC00519397|2010-01-03 00:00:00| 0.0|  74|\n",
            "|USC00519397|2010-01-04 00:00:00| 0.0|  76|\n",
            "|USC00519397|2010-01-07 00:00:00|0.06|  70|\n",
            "|USC00519397|2010-01-08 00:00:00| 0.0|  64|\n",
            "|USC00519397|2010-01-09 00:00:00| 0.0|  68|\n",
            "|USC00519397|2010-01-10 00:00:00| 0.0|  73|\n",
            "|USC00519397|2010-01-11 00:00:00|0.01|  64|\n",
            "|USC00519397|2010-01-12 00:00:00| 0.0|  61|\n",
            "|USC00519397|2010-01-14 00:00:00| 0.0|  66|\n",
            "|USC00519397|2010-01-15 00:00:00| 0.0|  65|\n",
            "|USC00519397|2010-01-16 00:00:00| 0.0|  68|\n",
            "|USC00519397|2010-01-17 00:00:00| 0.0|  64|\n",
            "|USC00519397|2010-01-18 00:00:00| 0.0|  72|\n",
            "|USC00519397|2010-01-19 00:00:00| 0.0|  66|\n",
            "|USC00519397|2010-01-20 00:00:00| 0.0|  66|\n",
            "|USC00519397|2010-01-21 00:00:00| 0.0|  69|\n",
            "|USC00519397|2010-01-22 00:00:00| 0.0|  67|\n",
            "|USC00519397|2010-01-23 00:00:00| 0.0|  67|\n",
            "+-----------+-------------------+----+----+\n",
            "only showing top 20 rows\n",
            "\n"
          ],
          "name": "stdout"
        }
      ]
    },
    {
      "cell_type": "code",
      "metadata": {
        "colab": {
          "base_uri": "https://localhost:8080/"
        },
        "id": "QGeA2ZcRYCGq",
        "outputId": "52e07a22-efa3-4026-f4a4-12a4f0dcebe9"
      },
      "source": [
        "df.printSchema()"
      ],
      "execution_count": null,
      "outputs": [
        {
          "output_type": "stream",
          "text": [
            "root\n",
            " |-- station: string (nullable = true)\n",
            " |-- date: timestamp (nullable = true)\n",
            " |-- prcp: double (nullable = true)\n",
            " |-- tobs: integer (nullable = true)\n",
            "\n"
          ],
          "name": "stdout"
        }
      ]
    },
    {
      "cell_type": "code",
      "metadata": {
        "colab": {
          "base_uri": "https://localhost:8080/"
        },
        "id": "qlpo4iHsC-oV",
        "outputId": "71ea83dc-13dc-4a73-e04e-365c2b534371"
      },
      "source": [
        "# Import date time functions\n",
        "from pyspark.sql.functions import year\n",
        "\n",
        "# Show the year for the date column\n",
        "df.select(year(df[\"date\"])).show()"
      ],
      "execution_count": null,
      "outputs": [
        {
          "output_type": "stream",
          "text": [
            "+----------+\n",
            "|year(date)|\n",
            "+----------+\n",
            "|      2010|\n",
            "|      2010|\n",
            "|      2010|\n",
            "|      2010|\n",
            "|      2010|\n",
            "|      2010|\n",
            "|      2010|\n",
            "|      2010|\n",
            "|      2010|\n",
            "|      2010|\n",
            "|      2010|\n",
            "|      2010|\n",
            "|      2010|\n",
            "|      2010|\n",
            "|      2010|\n",
            "|      2010|\n",
            "|      2010|\n",
            "|      2010|\n",
            "|      2010|\n",
            "|      2010|\n",
            "+----------+\n",
            "only showing top 20 rows\n",
            "\n"
          ],
          "name": "stdout"
        }
      ]
    },
    {
      "cell_type": "code",
      "metadata": {
        "colab": {
          "base_uri": "https://localhost:8080/"
        },
        "id": "es-JQnbkC-od",
        "outputId": "95c7b288-9ba9-493a-b599-750a9d3a0f57"
      },
      "source": [
        "# Save the year as a new column\n",
        "df = df.withColumn(\"year\", year(df['date']))\n",
        "df.show()"
      ],
      "execution_count": null,
      "outputs": [
        {
          "output_type": "stream",
          "text": [
            "+-----------+-------------------+----+----+----+-----+\n",
            "|    station|               date|prcp|tobs|year|month|\n",
            "+-----------+-------------------+----+----+----+-----+\n",
            "|USC00519397|2010-01-01 00:00:00|0.08|  65|2010|    1|\n",
            "|USC00519397|2010-01-02 00:00:00| 0.0|  63|2010|    1|\n",
            "|USC00519397|2010-01-03 00:00:00| 0.0|  74|2010|    1|\n",
            "|USC00519397|2010-01-04 00:00:00| 0.0|  76|2010|    1|\n",
            "|USC00519397|2010-01-07 00:00:00|0.06|  70|2010|    1|\n",
            "|USC00519397|2010-01-08 00:00:00| 0.0|  64|2010|    1|\n",
            "|USC00519397|2010-01-09 00:00:00| 0.0|  68|2010|    1|\n",
            "|USC00519397|2010-01-10 00:00:00| 0.0|  73|2010|    1|\n",
            "|USC00519397|2010-01-11 00:00:00|0.01|  64|2010|    1|\n",
            "|USC00519397|2010-01-12 00:00:00| 0.0|  61|2010|    1|\n",
            "|USC00519397|2010-01-14 00:00:00| 0.0|  66|2010|    1|\n",
            "|USC00519397|2010-01-15 00:00:00| 0.0|  65|2010|    1|\n",
            "|USC00519397|2010-01-16 00:00:00| 0.0|  68|2010|    1|\n",
            "|USC00519397|2010-01-17 00:00:00| 0.0|  64|2010|    1|\n",
            "|USC00519397|2010-01-18 00:00:00| 0.0|  72|2010|    1|\n",
            "|USC00519397|2010-01-19 00:00:00| 0.0|  66|2010|    1|\n",
            "|USC00519397|2010-01-20 00:00:00| 0.0|  66|2010|    1|\n",
            "|USC00519397|2010-01-21 00:00:00| 0.0|  69|2010|    1|\n",
            "|USC00519397|2010-01-22 00:00:00| 0.0|  67|2010|    1|\n",
            "|USC00519397|2010-01-23 00:00:00| 0.0|  67|2010|    1|\n",
            "+-----------+-------------------+----+----+----+-----+\n",
            "only showing top 20 rows\n",
            "\n"
          ],
          "name": "stdout"
        }
      ]
    },
    {
      "cell_type": "code",
      "metadata": {
        "colab": {
          "base_uri": "https://localhost:8080/"
        },
        "id": "vUaT-8mCV6w0",
        "outputId": "8bd5ec6b-f9a1-439e-e94c-ec60d5138535"
      },
      "source": [
        "# Find the average precipitation per year\n",
        "averages = df.groupBy(\"year\").avg()\n",
        "averages.orderBy(\"year\").select(\"year\", \"avg(prcp)\").show()"
      ],
      "execution_count": null,
      "outputs": [
        {
          "output_type": "stream",
          "text": [
            "+----+-------------------+\n",
            "|year|          avg(prcp)|\n",
            "+----+-------------------+\n",
            "|2010|0.13852293920179035|\n",
            "|2011| 0.1637348927875241|\n",
            "|2012| 0.1163805668016194|\n",
            "|2013|0.15554567502020986|\n",
            "|2014|0.17855953372189803|\n",
            "|2015|0.19919999999999985|\n",
            "|2016|0.17984533591106822|\n",
            "|2017|0.16592738752959774|\n",
            "+----+-------------------+\n",
            "\n"
          ],
          "name": "stdout"
        }
      ]
    },
    {
      "cell_type": "code",
      "metadata": {
        "colab": {
          "base_uri": "https://localhost:8080/"
        },
        "id": "cS6QUGeSC-om",
        "outputId": "146ea79d-52f9-40b2-8386-a38631b58e1a"
      },
      "source": [
        "from pyspark.sql.functions import month\n",
        "df.select(month(df['Date'])).show()"
      ],
      "execution_count": null,
      "outputs": [
        {
          "output_type": "stream",
          "text": [
            "+-----------+\n",
            "|month(Date)|\n",
            "+-----------+\n",
            "|          1|\n",
            "|          1|\n",
            "|          1|\n",
            "|          1|\n",
            "|          1|\n",
            "|          1|\n",
            "|          1|\n",
            "|          1|\n",
            "|          1|\n",
            "|          1|\n",
            "|          1|\n",
            "|          1|\n",
            "|          1|\n",
            "|          1|\n",
            "|          1|\n",
            "|          1|\n",
            "|          1|\n",
            "|          1|\n",
            "|          1|\n",
            "|          1|\n",
            "+-----------+\n",
            "only showing top 20 rows\n",
            "\n"
          ],
          "name": "stdout"
        }
      ]
    },
    {
      "cell_type": "code",
      "metadata": {
        "colab": {
          "base_uri": "https://localhost:8080/"
        },
        "id": "CojLgFrpC-oq",
        "outputId": "bdf2ad48-2d3e-4cd6-d19b-19b5d80df959"
      },
      "source": [
        "df = df.withColumn(\"month\", month(df['date']))\n",
        "df.head()"
      ],
      "execution_count": null,
      "outputs": [
        {
          "output_type": "execute_result",
          "data": {
            "text/plain": [
              "Row(station='USC00519397', date=datetime.datetime(2010, 1, 1, 0, 0), prcp=0.08, tobs=65, month=1)"
            ]
          },
          "metadata": {
            "tags": []
          },
          "execution_count": 30
        }
      ]
    },
    {
      "cell_type": "code",
      "metadata": {
        "colab": {
          "base_uri": "https://localhost:8080/"
        },
        "id": "WFLxAjanC-ou",
        "outputId": "c44ddd71-a089-4879-caa3-a867c46cd9b5"
      },
      "source": [
        "maxes = df.groupBy(\"month\").max()\n",
        "maxes.orderBy(\"month\").select(\"month\", \"max(prcp)\").show()"
      ],
      "execution_count": null,
      "outputs": [
        {
          "output_type": "stream",
          "text": [
            "+-----+---------+\n",
            "|month|max(prcp)|\n",
            "+-----+---------+\n",
            "|    1|     8.81|\n",
            "|    2|     5.04|\n",
            "|    3|     6.38|\n",
            "|    4|     6.25|\n",
            "|    5|     4.07|\n",
            "|    6|     4.43|\n",
            "|    7|    11.53|\n",
            "|    8|     4.81|\n",
            "|    9|     6.83|\n",
            "|   10|     4.47|\n",
            "|   11|     8.06|\n",
            "|   12|     6.42|\n",
            "+-----+---------+\n",
            "\n"
          ],
          "name": "stdout"
        }
      ]
    },
    {
      "cell_type": "code",
      "metadata": {
        "colab": {
          "base_uri": "https://localhost:8080/",
          "height": 204
        },
        "id": "C6KRsF3GC-oz",
        "outputId": "c9d18259-95fc-49cb-a584-59684ce48c40"
      },
      "source": [
        "# Import the summarized data to a pandas dataframe for plotting\n",
        "# Note: If your summarized data is still too big for your local memory then your notebook may crash\n",
        "\n",
        "pandas_df = maxes.orderBy(\"month\").select(\"month\", \"max(prcp)\").toPandas()\n",
        "pandas_df.head()"
      ],
      "execution_count": null,
      "outputs": [
        {
          "output_type": "execute_result",
          "data": {
            "text/html": [
              "<div>\n",
              "<style scoped>\n",
              "    .dataframe tbody tr th:only-of-type {\n",
              "        vertical-align: middle;\n",
              "    }\n",
              "\n",
              "    .dataframe tbody tr th {\n",
              "        vertical-align: top;\n",
              "    }\n",
              "\n",
              "    .dataframe thead th {\n",
              "        text-align: right;\n",
              "    }\n",
              "</style>\n",
              "<table border=\"1\" class=\"dataframe\">\n",
              "  <thead>\n",
              "    <tr style=\"text-align: right;\">\n",
              "      <th></th>\n",
              "      <th>month</th>\n",
              "      <th>max(prcp)</th>\n",
              "    </tr>\n",
              "  </thead>\n",
              "  <tbody>\n",
              "    <tr>\n",
              "      <th>0</th>\n",
              "      <td>1</td>\n",
              "      <td>8.81</td>\n",
              "    </tr>\n",
              "    <tr>\n",
              "      <th>1</th>\n",
              "      <td>2</td>\n",
              "      <td>5.04</td>\n",
              "    </tr>\n",
              "    <tr>\n",
              "      <th>2</th>\n",
              "      <td>3</td>\n",
              "      <td>6.38</td>\n",
              "    </tr>\n",
              "    <tr>\n",
              "      <th>3</th>\n",
              "      <td>4</td>\n",
              "      <td>6.25</td>\n",
              "    </tr>\n",
              "    <tr>\n",
              "      <th>4</th>\n",
              "      <td>5</td>\n",
              "      <td>4.07</td>\n",
              "    </tr>\n",
              "  </tbody>\n",
              "</table>\n",
              "</div>"
            ],
            "text/plain": [
              "   month  max(prcp)\n",
              "0      1       8.81\n",
              "1      2       5.04\n",
              "2      3       6.38\n",
              "3      4       6.25\n",
              "4      5       4.07"
            ]
          },
          "metadata": {
            "tags": []
          },
          "execution_count": 32
        }
      ]
    },
    {
      "cell_type": "code",
      "metadata": {
        "colab": {
          "base_uri": "https://localhost:8080/",
          "height": 301
        },
        "id": "CrkpfmoAC-o2",
        "outputId": "b476f550-913b-40d8-e56d-c2fda709f3eb"
      },
      "source": [
        "import matplotlib.pyplot as plt\n",
        "pandas_df.set_index(\"month\", inplace=True)\n",
        "pandas_df.plot.bar()"
      ],
      "execution_count": null,
      "outputs": [
        {
          "output_type": "execute_result",
          "data": {
            "text/plain": [
              "<matplotlib.axes._subplots.AxesSubplot at 0x7f5cbe0c6910>"
            ]
          },
          "metadata": {
            "tags": []
          },
          "execution_count": 33
        },
        {
          "output_type": "display_data",
          "data": {
            "image/png": "[encoded data removed]",
            "text/plain": [
              "<Figure size 432x288 with 1 Axes>"
            ]
          },
          "metadata": {
            "tags": [],
            "needs_background": "light"
          }
        }
      ]
    },
    {
      "cell_type": "code",
      "metadata": {
        "id": "0afADD07C-o9"
      },
      "source": [
        ""
      ],
      "execution_count": null,
      "outputs": []
    }
  ]
}