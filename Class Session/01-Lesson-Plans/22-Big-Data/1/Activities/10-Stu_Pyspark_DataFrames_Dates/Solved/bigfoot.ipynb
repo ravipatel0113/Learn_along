{
  "nbformat": 4,
  "nbformat_minor": 0,
  "metadata": {
    "anaconda-cloud": {},
    "colab": {
      "name": "bigfoot.ipynb",
      "provenance": [],
      "collapsed_sections": []
    },
    "kernel_info": {
      "name": "python3"
    },
    "kernelspec": {
      "display_name": "Python 3",
      "language": "python",
      "name": "python3"
    },
    "language_info": {
      "codemirror_mode": {
        "name": "ipython",
        "version": 3
      },
      "file_extension": ".py",
      "mimetype": "text/x-python",
      "name": "python",
      "nbconvert_exporter": "python",
      "pygments_lexer": "ipython3",
      "version": "3.8.3"
    },
    "nteract": {
      "version": "0.28.0"
    },
    "varInspector": {
      "cols": {
        "lenName": 16,
        "lenType": 16,
        "lenVar": 40
      },
      "kernels_config": {
        "python": {
          "delete_cmd_postfix": "",
          "delete_cmd_prefix": "del ",
          "library": "var_list.py",
          "varRefreshCmd": "print(var_dic_list())"
        },
        "r": {
          "delete_cmd_postfix": ") ",
          "delete_cmd_prefix": "rm(",
          "library": "var_list.r",
          "varRefreshCmd": "cat(var_dic_list()) "
        }
      },
      "types_to_exclude": [
        "module",
        "function",
        "builtin_function_or_method",
        "instance",
        "_Feature"
      ],
      "window_display": false
    }
  },
  "cells": [
    {
      "cell_type": "code",
      "metadata": {
        "colab": {
          "base_uri": "https://localhost:8080/"
        },
        "id": "odBn6F_lGN_8",
        "outputId": "01fd5c29-8b60-48ce-c1ff-4e24b96f01bc"
      },
      "source": [
        "import os\n",
        "# Find the latest version of spark 3.0  from http://www-us.apache.org/dist/spark/ and enter as the spark version\n",
        "# For example:\n",
        "# spark_version = 'spark-3.0.2'\n",
        "spark_version = 'spark-<enter version>'\n",
        "os.environ['SPARK_VERSION']=spark_version\n",
        "\n",
        "# Install Spark and Java\n",
        "!apt-get update\n",
        "!apt-get install openjdk-11-jdk-headless -qq > /dev/null\n",
        "!wget -q http://www-us.apache.org/dist/spark/$SPARK_VERSION/$SPARK_VERSION-bin-hadoop2.7.tgz\n",
        "!tar xf $SPARK_VERSION-bin-hadoop2.7.tgz\n",
        "!pip install -q findspark\n",
        "\n",
        "# Set Environment Variables\n",
        "os.environ[\"JAVA_HOME\"] = \"/usr/lib/jvm/java-11-openjdk-amd64\"\n",
        "os.environ[\"SPARK_HOME\"] = f\"/content/{spark_version}-bin-hadoop2.7\"\n",
        "\n",
        "# Start a SparkSession\n",
        "import findspark\n",
        "findspark.init()"
      ],
      "execution_count": 1,
      "outputs": [
        {
          "output_type": "stream",
          "text": [
            "\r0% [Working]\r            \rGet:1 http://security.ubuntu.com/ubuntu bionic-security InRelease [88.7 kB]\n",
            "\r0% [Connecting to archive.ubuntu.com (91.189.88.142)] [1 InRelease 14.2 kB/88.7\r0% [Waiting for headers] [Waiting for headers] [Waiting for headers] [Waiting f\r0% [1 InRelease gpgv 88.7 kB] [Waiting for headers] [Waiting for headers] [Wait\r                                                                               \rIgn:2 https://developer.download.nvidia.com/compute/cuda/repos/ubuntu1804/x86_64  InRelease\n",
            "Get:3 https://cloud.r-project.org/bin/linux/ubuntu bionic-cran40/ InRelease [3,626 B]\n",
            "Hit:4 http://archive.ubuntu.com/ubuntu bionic InRelease\n",
            "Get:5 http://ppa.launchpad.net/c2d4u.team/c2d4u4.0+/ubuntu bionic InRelease [15.9 kB]\n",
            "Ign:6 https://developer.download.nvidia.com/compute/machine-learning/repos/ubuntu1804/x86_64  InRelease\n",
            "Get:7 https://developer.download.nvidia.com/compute/cuda/repos/ubuntu1804/x86_64  Release [697 B]\n",
            "Hit:8 https://developer.download.nvidia.com/compute/machine-learning/repos/ubuntu1804/x86_64  Release\n",
            "Get:9 https://developer.download.nvidia.com/compute/cuda/repos/ubuntu1804/x86_64  Release.gpg [836 B]\n",
            "Get:10 http://archive.ubuntu.com/ubuntu bionic-updates InRelease [88.7 kB]\n",
            "Hit:11 http://ppa.launchpad.net/cran/libgit2/ubuntu bionic InRelease\n",
            "Get:12 http://security.ubuntu.com/ubuntu bionic-security/main amd64 Packages [2,119 kB]\n",
            "Get:13 http://archive.ubuntu.com/ubuntu bionic-backports InRelease [74.6 kB]\n",
            "Hit:14 http://ppa.launchpad.net/deadsnakes/ppa/ubuntu bionic InRelease\n",
            "Get:15 http://security.ubuntu.com/ubuntu bionic-security/universe amd64 Packages [1,410 kB]\n",
            "Get:16 http://ppa.launchpad.net/graphics-drivers/ppa/ubuntu bionic InRelease [21.3 kB]\n",
            "Get:17 https://cloud.r-project.org/bin/linux/ubuntu bionic-cran40/ Packages [55.5 kB]\n",
            "Ign:19 https://developer.download.nvidia.com/compute/cuda/repos/ubuntu1804/x86_64  Packages\n",
            "Get:19 https://developer.download.nvidia.com/compute/cuda/repos/ubuntu1804/x86_64  Packages [770 kB]\n",
            "Get:20 http://ppa.launchpad.net/c2d4u.team/c2d4u4.0+/ubuntu bionic/main Sources [1,759 kB]\n",
            "Get:21 http://archive.ubuntu.com/ubuntu bionic-updates/main amd64 Packages [2,550 kB]\n",
            "Get:22 http://ppa.launchpad.net/c2d4u.team/c2d4u4.0+/ubuntu bionic/main amd64 Packages [900 kB]\n",
            "Get:23 http://archive.ubuntu.com/ubuntu bionic-updates/universe amd64 Packages [2,182 kB]\n",
            "Get:24 http://ppa.launchpad.net/graphics-drivers/ppa/ubuntu bionic/main amd64 Packages [41.5 kB]\n",
            "Fetched 12.1 MB in 4s (3,199 kB/s)\n",
            "Reading package lists... Done\n"
          ],
          "name": "stdout"
        }
      ]
    },
    {
      "cell_type": "code",
      "metadata": {
        "id": "1GIpxtoMXUDC"
      },
      "source": [
        "# Start Spark session\n",
        "from pyspark.sql import SparkSession\n",
        "spark = SparkSession.builder.appName(\"bigfoot\").getOrCreate()"
      ],
      "execution_count": 2,
      "outputs": []
    },
    {
      "cell_type": "code",
      "metadata": {
        "colab": {
          "base_uri": "https://localhost:8080/"
        },
        "id": "5yT4wANyFtR6",
        "outputId": "5ec3889d-b097-4bed-8449-c5c382f301d0"
      },
      "source": [
        "# Read in data from S3 Buckets\n",
        "from pyspark import SparkFiles\n",
        "url = \"https://2u-data-curriculum-team.s3.amazonaws.com/dataviz-classroom/v1.0/22/bigfoot.csv\"\n",
        "spark.sparkContext.addFile(url)\n",
        "df = spark.read.csv(SparkFiles.get(\"bigfoot.csv\"), header=True, inferSchema=True)\n",
        "\n",
        "# Show DataFrame\n",
        "df.show()"
      ],
      "execution_count": 4,
      "outputs": [
        {
          "output_type": "stream",
          "text": [
            "+------+--------------------+--------------+--------------------+\n",
            "|number|               title|classification|           timestamp|\n",
            "+------+--------------------+--------------+--------------------+\n",
            "|   637|Report 637: Campe...|       Class A|2000-06-16T12:00:00Z|\n",
            "|  2917|Report 2917: Fami...|       Class A|1995-05-15T12:00:00Z|\n",
            "|  7963|Report 7963: Sasq...|       Class A|2004-02-09T12:00:00Z|\n",
            "|  9317|Report 9317: Driv...|       Class A|2004-06-18T12:00:00Z|\n",
            "| 13038|Report 13038: Sno...|       Class A|2004-02-15T12:00:00Z|\n",
            "| 23666|Report 23666: Pas...|       Class A|2008-04-23T12:00:00Z|\n",
            "| 26604|Report 26604: Day...|       Class A|2009-07-15T12:00:00Z|\n",
            "|   179|Report 179: Man a...|       Class A|1981-09-15T12:00:00Z|\n",
            "|   245|Report 245: Two o...|       Class A|1999-07-15T12:00:00Z|\n",
            "|   416|Report 416: A res...|       Class A|1983-11-15T12:00:00Z|\n",
            "|   435|Report 435: Dayli...|       Class A|2000-10-10T12:00:00Z|\n",
            "|   451|Report 451: Young...|       Class A|1993-08-20T12:00:00Z|\n",
            "|   577|Report 577: Man h...|       Class A|1999-11-15T12:00:00Z|\n",
            "|   799|Report 799: Perso...|       Class A|1978-04-15T12:00:00Z|\n",
            "|   832|Report 832: Witne...|       Class A|1980-11-15T12:00:00Z|\n",
            "|   961|Report 961: Motor...|       Class A|1997-01-06T12:00:00Z|\n",
            "|  1022|Report 1022: Hunt...|       Class A|1990-09-15T12:00:00Z|\n",
            "|  1907|Report 1907: Moto...|       Class A|1996-12-05T12:00:00Z|\n",
            "|  3028|Report 3028: Dayl...|       Class A|2000-06-01T12:00:00Z|\n",
            "|  3296|Report 3296: Man ...|       Class A|2001-10-15T12:00:00Z|\n",
            "+------+--------------------+--------------+--------------------+\n",
            "only showing top 20 rows\n",
            "\n"
          ],
          "name": "stdout"
        }
      ]
    },
    {
      "cell_type": "code",
      "metadata": {
        "id": "JTCnC45ZgJ1f"
      },
      "source": [
        "from pyspark.sql.types import TimestampType\n",
        "df = df.withColumn(\"timestamp\", df[\"timestamp\"].cast(TimestampType()))"
      ],
      "execution_count": 5,
      "outputs": []
    },
    {
      "cell_type": "code",
      "metadata": {
        "colab": {
          "base_uri": "https://localhost:8080/"
        },
        "id": "zjsr8oFhgcid",
        "outputId": "b8baa891-d4e7-4284-fee7-f00d9e198c69"
      },
      "source": [
        "df.printSchema()"
      ],
      "execution_count": 6,
      "outputs": [
        {
          "output_type": "stream",
          "text": [
            "root\n",
            " |-- number: integer (nullable = true)\n",
            " |-- title: string (nullable = true)\n",
            " |-- classification: string (nullable = true)\n",
            " |-- timestamp: timestamp (nullable = true)\n",
            "\n"
          ],
          "name": "stdout"
        }
      ]
    },
    {
      "cell_type": "code",
      "metadata": {
        "id": "zP-O7x64FtSC"
      },
      "source": [
        "# Import date time functions\n",
        "from pyspark.sql.functions import month, year"
      ],
      "execution_count": 7,
      "outputs": []
    },
    {
      "cell_type": "code",
      "metadata": {
        "colab": {
          "base_uri": "https://localhost:8080/"
        },
        "id": "76lFAjMQFtSH",
        "scrolled": true,
        "outputId": "9a160050-15d0-4fec-dff4-42adcfcc7fa2"
      },
      "source": [
        "# Create a new DataFrame with the column Year\n",
        "df.select(year(df[\"timestamp\"])).show()"
      ],
      "execution_count": 8,
      "outputs": [
        {
          "output_type": "stream",
          "text": [
            "+---------------+\n",
            "|year(timestamp)|\n",
            "+---------------+\n",
            "|           2000|\n",
            "|           1995|\n",
            "|           2004|\n",
            "|           2004|\n",
            "|           2004|\n",
            "|           2008|\n",
            "|           2009|\n",
            "|           1981|\n",
            "|           1999|\n",
            "|           1983|\n",
            "|           2000|\n",
            "|           1993|\n",
            "|           1999|\n",
            "|           1978|\n",
            "|           1980|\n",
            "|           1997|\n",
            "|           1990|\n",
            "|           1996|\n",
            "|           2000|\n",
            "|           2001|\n",
            "+---------------+\n",
            "only showing top 20 rows\n",
            "\n"
          ],
          "name": "stdout"
        }
      ]
    },
    {
      "cell_type": "code",
      "metadata": {
        "colab": {
          "base_uri": "https://localhost:8080/"
        },
        "id": "wpJF31VGFtSL",
        "outputId": "07c85a61-ab27-45b4-91ab-4c56790b3531"
      },
      "source": [
        "# Save the year as a new column\n",
        "df = df.withColumn(\"year\", year(df['timestamp']))\n",
        "df.show()"
      ],
      "execution_count": 9,
      "outputs": [
        {
          "output_type": "stream",
          "text": [
            "+------+--------------------+--------------+-------------------+----+\n",
            "|number|               title|classification|          timestamp|year|\n",
            "+------+--------------------+--------------+-------------------+----+\n",
            "|   637|Report 637: Campe...|       Class A|2000-06-16 12:00:00|2000|\n",
            "|  2917|Report 2917: Fami...|       Class A|1995-05-15 12:00:00|1995|\n",
            "|  7963|Report 7963: Sasq...|       Class A|2004-02-09 12:00:00|2004|\n",
            "|  9317|Report 9317: Driv...|       Class A|2004-06-18 12:00:00|2004|\n",
            "| 13038|Report 13038: Sno...|       Class A|2004-02-15 12:00:00|2004|\n",
            "| 23666|Report 23666: Pas...|       Class A|2008-04-23 12:00:00|2008|\n",
            "| 26604|Report 26604: Day...|       Class A|2009-07-15 12:00:00|2009|\n",
            "|   179|Report 179: Man a...|       Class A|1981-09-15 12:00:00|1981|\n",
            "|   245|Report 245: Two o...|       Class A|1999-07-15 12:00:00|1999|\n",
            "|   416|Report 416: A res...|       Class A|1983-11-15 12:00:00|1983|\n",
            "|   435|Report 435: Dayli...|       Class A|2000-10-10 12:00:00|2000|\n",
            "|   451|Report 451: Young...|       Class A|1993-08-20 12:00:00|1993|\n",
            "|   577|Report 577: Man h...|       Class A|1999-11-15 12:00:00|1999|\n",
            "|   799|Report 799: Perso...|       Class A|1978-04-15 12:00:00|1978|\n",
            "|   832|Report 832: Witne...|       Class A|1980-11-15 12:00:00|1980|\n",
            "|   961|Report 961: Motor...|       Class A|1997-01-06 12:00:00|1997|\n",
            "|  1022|Report 1022: Hunt...|       Class A|1990-09-15 12:00:00|1990|\n",
            "|  1907|Report 1907: Moto...|       Class A|1996-12-05 12:00:00|1996|\n",
            "|  3028|Report 3028: Dayl...|       Class A|2000-06-01 12:00:00|2000|\n",
            "|  3296|Report 3296: Man ...|       Class A|2001-10-15 12:00:00|2001|\n",
            "+------+--------------------+--------------+-------------------+----+\n",
            "only showing top 20 rows\n",
            "\n"
          ],
          "name": "stdout"
        }
      ]
    },
    {
      "cell_type": "code",
      "metadata": {
        "colab": {
          "base_uri": "https://localhost:8080/"
        },
        "id": "sBpcHcZcFtSQ",
        "outputId": "4c84a106-ba66-44ce-e8d6-5af80a57b58d"
      },
      "source": [
        "# Find the total bigfoot sightings per year\n",
        "averages = df.groupBy(\"year\").count()\n",
        "averages.orderBy(\"year\").select(\"year\", \"count\").show()"
      ],
      "execution_count": 10,
      "outputs": [
        {
          "output_type": "stream",
          "text": [
            "+----+-----+\n",
            "|year|count|\n",
            "+----+-----+\n",
            "|null|    6|\n",
            "|1869|    1|\n",
            "|1921|    1|\n",
            "|1925|    1|\n",
            "|1930|    1|\n",
            "|1932|    1|\n",
            "|1934|    1|\n",
            "|1937|    1|\n",
            "|1938|    1|\n",
            "|1941|    1|\n",
            "|1942|    1|\n",
            "|1944|    2|\n",
            "|1947|    1|\n",
            "|1948|    1|\n",
            "|1949|    2|\n",
            "|1950|    3|\n",
            "|1952|    1|\n",
            "|1953|    2|\n",
            "|1954|    1|\n",
            "|1955|    3|\n",
            "+----+-----+\n",
            "only showing top 20 rows\n",
            "\n"
          ],
          "name": "stdout"
        }
      ]
    },
    {
      "cell_type": "code",
      "metadata": {
        "colab": {
          "base_uri": "https://localhost:8080/",
          "height": 204
        },
        "id": "vGvRXR0dFtSU",
        "outputId": "13288800-99fa-4bac-fc20-c39ebde4c5ab"
      },
      "source": [
        "# Import the summarized data to a pandas DataFrame for plotting\n",
        "# Note: If your summarized data is still too big for your local memory then your notebook may crash\n",
        "import pandas as pd\n",
        "pandas_df = averages.orderBy(\"year\").select(\"year\", \"count\").toPandas()\n",
        "pandas_df.head()"
      ],
      "execution_count": 11,
      "outputs": [
        {
          "output_type": "execute_result",
          "data": {
            "text/html": [
              "<div>\n",
              "<style scoped>\n",
              "    .dataframe tbody tr th:only-of-type {\n",
              "        vertical-align: middle;\n",
              "    }\n",
              "\n",
              "    .dataframe tbody tr th {\n",
              "        vertical-align: top;\n",
              "    }\n",
              "\n",
              "    .dataframe thead th {\n",
              "        text-align: right;\n",
              "    }\n",
              "</style>\n",
              "<table border=\"1\" class=\"dataframe\">\n",
              "  <thead>\n",
              "    <tr style=\"text-align: right;\">\n",
              "      <th></th>\n",
              "      <th>year</th>\n",
              "      <th>count</th>\n",
              "    </tr>\n",
              "  </thead>\n",
              "  <tbody>\n",
              "    <tr>\n",
              "      <th>0</th>\n",
              "      <td>NaN</td>\n",
              "      <td>6</td>\n",
              "    </tr>\n",
              "    <tr>\n",
              "      <th>1</th>\n",
              "      <td>1869.0</td>\n",
              "      <td>1</td>\n",
              "    </tr>\n",
              "    <tr>\n",
              "      <th>2</th>\n",
              "      <td>1921.0</td>\n",
              "      <td>1</td>\n",
              "    </tr>\n",
              "    <tr>\n",
              "      <th>3</th>\n",
              "      <td>1925.0</td>\n",
              "      <td>1</td>\n",
              "    </tr>\n",
              "    <tr>\n",
              "      <th>4</th>\n",
              "      <td>1930.0</td>\n",
              "      <td>1</td>\n",
              "    </tr>\n",
              "  </tbody>\n",
              "</table>\n",
              "</div>"
            ],
            "text/plain": [
              "     year  count\n",
              "0     NaN      6\n",
              "1  1869.0      1\n",
              "2  1921.0      1\n",
              "3  1925.0      1\n",
              "4  1930.0      1"
            ]
          },
          "metadata": {
            "tags": []
          },
          "execution_count": 11
        }
      ]
    },
    {
      "cell_type": "code",
      "metadata": {
        "colab": {
          "base_uri": "https://localhost:8080/",
          "height": 204
        },
        "id": "KZ9HqmjoFtSY",
        "outputId": "e09ec102-7996-49d2-daae-93f75858c067"
      },
      "source": [
        "# Clean the data and rename the columns to \"year\" and \"sightings\"\n",
        "pandas_df = pandas_df.dropna()\n",
        "pandas_df = pandas_df.rename(columns={\"count\": \"sightings\"})\n",
        "pandas_df.head()"
      ],
      "execution_count": 12,
      "outputs": [
        {
          "output_type": "execute_result",
          "data": {
            "text/html": [
              "<div>\n",
              "<style scoped>\n",
              "    .dataframe tbody tr th:only-of-type {\n",
              "        vertical-align: middle;\n",
              "    }\n",
              "\n",
              "    .dataframe tbody tr th {\n",
              "        vertical-align: top;\n",
              "    }\n",
              "\n",
              "    .dataframe thead th {\n",
              "        text-align: right;\n",
              "    }\n",
              "</style>\n",
              "<table border=\"1\" class=\"dataframe\">\n",
              "  <thead>\n",
              "    <tr style=\"text-align: right;\">\n",
              "      <th></th>\n",
              "      <th>year</th>\n",
              "      <th>sightings</th>\n",
              "    </tr>\n",
              "  </thead>\n",
              "  <tbody>\n",
              "    <tr>\n",
              "      <th>1</th>\n",
              "      <td>1869.0</td>\n",
              "      <td>1</td>\n",
              "    </tr>\n",
              "    <tr>\n",
              "      <th>2</th>\n",
              "      <td>1921.0</td>\n",
              "      <td>1</td>\n",
              "    </tr>\n",
              "    <tr>\n",
              "      <th>3</th>\n",
              "      <td>1925.0</td>\n",
              "      <td>1</td>\n",
              "    </tr>\n",
              "    <tr>\n",
              "      <th>4</th>\n",
              "      <td>1930.0</td>\n",
              "      <td>1</td>\n",
              "    </tr>\n",
              "    <tr>\n",
              "      <th>5</th>\n",
              "      <td>1932.0</td>\n",
              "      <td>1</td>\n",
              "    </tr>\n",
              "  </tbody>\n",
              "</table>\n",
              "</div>"
            ],
            "text/plain": [
              "     year  sightings\n",
              "1  1869.0          1\n",
              "2  1921.0          1\n",
              "3  1925.0          1\n",
              "4  1930.0          1\n",
              "5  1932.0          1"
            ]
          },
          "metadata": {
            "tags": []
          },
          "execution_count": 12
        }
      ]
    },
    {
      "cell_type": "code",
      "metadata": {
        "colab": {
          "base_uri": "https://localhost:8080/",
          "height": 296
        },
        "id": "kPAL5A9oFtSc",
        "outputId": "bbb4f8e1-dc54-4942-8a13-11f330c234d4"
      },
      "source": [
        "# Plot the year and sightings\n",
        "%matplotlib inline\n",
        "pandas_df.plot(\"year\", \"sightings\")"
      ],
      "execution_count": 13,
      "outputs": [
        {
          "output_type": "execute_result",
          "data": {
            "text/plain": [
              "<matplotlib.axes._subplots.AxesSubplot at 0x7fe1399a6950>"
            ]
          },
          "metadata": {
            "tags": []
          },
          "execution_count": 13
        },
        {
          "output_type": "display_data",
          "data": {
            "image/png": "[encoded data removed]",
            "text/plain": [
              "<Figure size 432x288 with 1 Axes>"
            ]
          },
          "metadata": {
            "tags": [],
            "needs_background": "light"
          }
        }
      ]
    },
    {
      "cell_type": "code",
      "metadata": {
        "id": "LsS-TQ5tGby5"
      },
      "source": [
        ""
      ],
      "execution_count": null,
      "outputs": []
    }
  ]
}