{
  "nbformat": 4,
  "nbformat_minor": 0,
  "metadata": {
    "anaconda-cloud": {},
    "colab": {
      "name": "bigfoot.ipynb",
      "provenance": [],
      "collapsed_sections": []
    },
    "kernel_info": {
      "name": "python3"
    },
    "kernelspec": {
      "display_name": "Python 3",
      "language": "python",
      "name": "python3"
    },
    "language_info": {
      "codemirror_mode": {
        "name": "ipython",
        "version": 3
      },
      "file_extension": ".py",
      "mimetype": "text/x-python",
      "name": "python",
      "nbconvert_exporter": "python",
      "pygments_lexer": "ipython3",
      "version": "3.8.3"
    },
    "latex_envs": {
      "report_style_numbering": false,
      "hotkeys": {
        "equation": "Ctrl-E",
        "itemize": "Ctrl-I"
      },
      "LaTeX_envs_menu_present": true,
      "autocomplete": true,
      "autoclose": false,
      "eqNumInitial": 1,
      "bibliofile": "biblio.bib",
      "latex_user_defs": false,
      "current_citInitial": 1,
      "eqLabelWithNumbers": true,
      "labels_anchors": false,
      "cite_by": "apalike",
      "user_envs_cfg": false
    },
    "nteract": {
      "version": "0.28.0"
    },
    "varInspector": {
      "cols": {
        "lenName": 16,
        "lenType": 16,
        "lenVar": 40
      },
      "kernels_config": {
        "python": {
          "delete_cmd_postfix": "",
          "delete_cmd_prefix": "del ",
          "library": "var_list.py",
          "varRefreshCmd": "print(var_dic_list())"
        },
        "r": {
          "delete_cmd_postfix": ") ",
          "delete_cmd_prefix": "rm(",
          "library": "var_list.r",
          "varRefreshCmd": "cat(var_dic_list()) "
        }
      },
      "types_to_exclude": [
        "module",
        "function",
        "builtin_function_or_method",
        "instance",
        "_Feature"
      ],
      "window_display": false
    }
  },
  "cells": [
    {
      "cell_type": "code",
      "metadata": {
        "colab": {
          "base_uri": "https://localhost:8080/"
        },
        "id": "odBn6F_lGN_8",
        "outputId": "de547d92-1716-442c-a7b5-f32f5dbfe65a"
      },
      "source": [
        "import os\n",
        "# Find the latest version of spark 3.0  from http://www-us.apache.org/dist/spark/ and enter as the spark version\n",
        "# For example:\n",
        "# spark_version = 'spark-3.0.2'\n",
        "spark_version = 'spark-<enter-version>'\n",
        "os.environ['SPARK_VERSION']=spark_version\n",
        "\n",
        "# Install Spark and Java\n",
        "!apt-get update\n",
        "!apt-get install openjdk-11-jdk-headless -qq > /dev/null\n",
        "!wget -q http://www-us.apache.org/dist/spark/$SPARK_VERSION/$SPARK_VERSION-bin-hadoop2.7.tgz\n",
        "!tar xf $SPARK_VERSION-bin-hadoop2.7.tgz\n",
        "!pip install -q findspark\n",
        "\n",
        "# Set Environment Variables\n",
        "os.environ[\"JAVA_HOME\"] = \"/usr/lib/jvm/java-11-openjdk-amd64\"\n",
        "os.environ[\"SPARK_HOME\"] = f\"/content/{spark_version}-bin-hadoop2.7\"\n",
        "\n",
        "# Start a SparkSession\n",
        "import findspark\n",
        "findspark.init()"
      ],
      "execution_count": 1,
      "outputs": [
        {
          "output_type": "stream",
          "text": [
            "\r0% [Working]\r            \rGet:1 https://cloud.r-project.org/bin/linux/ubuntu bionic-cran40/ InRelease [3,626 B]\n",
            "Ign:2 https://developer.download.nvidia.com/compute/cuda/repos/ubuntu1804/x86_64  InRelease\n",
            "Ign:3 https://developer.download.nvidia.com/compute/machine-learning/repos/ubuntu1804/x86_64  InRelease\n",
            "Get:4 https://developer.download.nvidia.com/compute/cuda/repos/ubuntu1804/x86_64  Release [697 B]\n",
            "Hit:5 https://developer.download.nvidia.com/compute/machine-learning/repos/ubuntu1804/x86_64  Release\n",
            "Get:6 https://developer.download.nvidia.com/compute/cuda/repos/ubuntu1804/x86_64  Release.gpg [836 B]\n",
            "Get:7 http://security.ubuntu.com/ubuntu bionic-security InRelease [88.7 kB]\n",
            "Get:8 http://ppa.launchpad.net/c2d4u.team/c2d4u4.0+/ubuntu bionic InRelease [15.9 kB]\n",
            "Hit:9 http://archive.ubuntu.com/ubuntu bionic InRelease\n",
            "Get:10 https://cloud.r-project.org/bin/linux/ubuntu bionic-cran40/ Packages [55.5 kB]\n",
            "Get:11 http://archive.ubuntu.com/ubuntu bionic-updates InRelease [88.7 kB]\n",
            "Hit:13 http://ppa.launchpad.net/cran/libgit2/ubuntu bionic InRelease\n",
            "Ign:14 https://developer.download.nvidia.com/compute/cuda/repos/ubuntu1804/x86_64  Packages\n",
            "Get:14 https://developer.download.nvidia.com/compute/cuda/repos/ubuntu1804/x86_64  Packages [770 kB]\n",
            "Get:15 http://archive.ubuntu.com/ubuntu bionic-backports InRelease [74.6 kB]\n",
            "Hit:16 http://ppa.launchpad.net/deadsnakes/ppa/ubuntu bionic InRelease\n",
            "Get:17 http://ppa.launchpad.net/graphics-drivers/ppa/ubuntu bionic InRelease [21.3 kB]\n",
            "Get:18 http://security.ubuntu.com/ubuntu bionic-security/universe amd64 Packages [1,410 kB]\n",
            "Get:19 http://ppa.launchpad.net/c2d4u.team/c2d4u4.0+/ubuntu bionic/main Sources [1,759 kB]\n",
            "Get:20 http://archive.ubuntu.com/ubuntu bionic-updates/main amd64 Packages [2,550 kB]\n",
            "Get:21 http://security.ubuntu.com/ubuntu bionic-security/main amd64 Packages [2,119 kB]\n",
            "Get:22 http://ppa.launchpad.net/c2d4u.team/c2d4u4.0+/ubuntu bionic/main amd64 Packages [900 kB]\n",
            "Get:23 http://archive.ubuntu.com/ubuntu bionic-updates/universe amd64 Packages [2,182 kB]\n",
            "Get:24 http://ppa.launchpad.net/graphics-drivers/ppa/ubuntu bionic/main amd64 Packages [41.5 kB]\n",
            "Fetched 12.1 MB in 4s (2,847 kB/s)\n",
            "Reading package lists... Done\n"
          ],
          "name": "stdout"
        }
      ]
    },
    {
      "cell_type": "code",
      "metadata": {
        "id": "cIfepB7khHZg"
      },
      "source": [
        "# Start Spark session\n",
        "from pyspark.sql import SparkSession\n",
        "spark = SparkSession.builder.appName(\"Bigfoot\").getOrCreate()"
      ],
      "execution_count": 2,
      "outputs": []
    },
    {
      "cell_type": "code",
      "metadata": {
        "colab": {
          "base_uri": "https://localhost:8080/"
        },
        "id": "5yT4wANyFtR6",
        "outputId": "f765c9c2-96c8-43c8-f314-84fb05cb7df6"
      },
      "source": [
        "# Read in data from S3 Buckets\n",
        "from pyspark import SparkFiles\n",
        "url = \"https://2u-data-curriculum-team.s3.amazonaws.com/dataviz-classroom/v1.0/22/bigfoot.csv\"\n",
        "spark.sparkContext.addFile(url)\n",
        "df = spark.read.csv(SparkFiles.get(\"bigfoot.csv\"), header=True, inferSchema=True)\n",
        "\n",
        "# Show DataFrame\n",
        "df.show()"
      ],
      "execution_count": 3,
      "outputs": [
        {
          "output_type": "stream",
          "text": [
            "+------+--------------------+--------------+--------------------+\n",
            "|number|               title|classification|           timestamp|\n",
            "+------+--------------------+--------------+--------------------+\n",
            "|   637|Report 637: Campe...|       Class A|2000-06-16T12:00:00Z|\n",
            "|  2917|Report 2917: Fami...|       Class A|1995-05-15T12:00:00Z|\n",
            "|  7963|Report 7963: Sasq...|       Class A|2004-02-09T12:00:00Z|\n",
            "|  9317|Report 9317: Driv...|       Class A|2004-06-18T12:00:00Z|\n",
            "| 13038|Report 13038: Sno...|       Class A|2004-02-15T12:00:00Z|\n",
            "| 23666|Report 23666: Pas...|       Class A|2008-04-23T12:00:00Z|\n",
            "| 26604|Report 26604: Day...|       Class A|2009-07-15T12:00:00Z|\n",
            "|   179|Report 179: Man a...|       Class A|1981-09-15T12:00:00Z|\n",
            "|   245|Report 245: Two o...|       Class A|1999-07-15T12:00:00Z|\n",
            "|   416|Report 416: A res...|       Class A|1983-11-15T12:00:00Z|\n",
            "|   435|Report 435: Dayli...|       Class A|2000-10-10T12:00:00Z|\n",
            "|   451|Report 451: Young...|       Class A|1993-08-20T12:00:00Z|\n",
            "|   577|Report 577: Man h...|       Class A|1999-11-15T12:00:00Z|\n",
            "|   799|Report 799: Perso...|       Class A|1978-04-15T12:00:00Z|\n",
            "|   832|Report 832: Witne...|       Class A|1980-11-15T12:00:00Z|\n",
            "|   961|Report 961: Motor...|       Class A|1997-01-06T12:00:00Z|\n",
            "|  1022|Report 1022: Hunt...|       Class A|1990-09-15T12:00:00Z|\n",
            "|  1907|Report 1907: Moto...|       Class A|1996-12-05T12:00:00Z|\n",
            "|  3028|Report 3028: Dayl...|       Class A|2000-06-01T12:00:00Z|\n",
            "|  3296|Report 3296: Man ...|       Class A|2001-10-15T12:00:00Z|\n",
            "+------+--------------------+--------------+--------------------+\n",
            "only showing top 20 rows\n",
            "\n"
          ],
          "name": "stdout"
        }
      ]
    },
    {
      "cell_type": "code",
      "metadata": {
        "id": "QbSKQq_vhiSy"
      },
      "source": [
        "# Cast the \"timestamp\" column to timestamp data type\n"
      ],
      "execution_count": null,
      "outputs": []
    },
    {
      "cell_type": "code",
      "metadata": {
        "id": "JQ7wJ-Qlhj5a"
      },
      "source": [
        "# Inspect the column data types\n"
      ],
      "execution_count": null,
      "outputs": []
    },
    {
      "cell_type": "code",
      "metadata": {
        "id": "zP-O7x64FtSC"
      },
      "source": [
        "# Import date time functions\n"
      ],
      "execution_count": null,
      "outputs": []
    },
    {
      "cell_type": "code",
      "metadata": {
        "id": "76lFAjMQFtSH",
        "scrolled": true
      },
      "source": [
        "# Create a new DataFrame with the column Year\n"
      ],
      "execution_count": null,
      "outputs": []
    },
    {
      "cell_type": "code",
      "metadata": {
        "id": "wpJF31VGFtSL"
      },
      "source": [
        "# Save the year as a new column\n"
      ],
      "execution_count": null,
      "outputs": []
    },
    {
      "cell_type": "code",
      "metadata": {
        "id": "sBpcHcZcFtSQ"
      },
      "source": [
        "# Find the total bigfoot sightings per year\n"
      ],
      "execution_count": null,
      "outputs": []
    },
    {
      "cell_type": "code",
      "metadata": {
        "id": "vGvRXR0dFtSU"
      },
      "source": [
        "# Import the summarized data to a pandas DataFrame for plotting\n",
        "# Note: If your summarized data is still too big for your local memory then your notebook may crash\n"
      ],
      "execution_count": null,
      "outputs": []
    },
    {
      "cell_type": "code",
      "metadata": {
        "id": "KZ9HqmjoFtSY"
      },
      "source": [
        "# Clean the data and rename the columns to \"year\" and \"sightings\"\n"
      ],
      "execution_count": null,
      "outputs": []
    },
    {
      "cell_type": "code",
      "metadata": {
        "id": "kPAL5A9oFtSc"
      },
      "source": [
        "# Plot the year and sightings\n",
        "%matplotlib inline\n"
      ],
      "execution_count": null,
      "outputs": []
    },
    {
      "cell_type": "code",
      "metadata": {
        "id": "LsS-TQ5tGby5"
      },
      "source": [
        ""
      ],
      "execution_count": null,
      "outputs": []
    }
  ]
}