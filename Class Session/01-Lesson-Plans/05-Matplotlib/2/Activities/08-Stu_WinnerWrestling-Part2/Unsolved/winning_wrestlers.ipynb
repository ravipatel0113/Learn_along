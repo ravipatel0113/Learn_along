{
 "cells": [
  {
   "cell_type": "markdown",
   "metadata": {},
   "source": [
    "# Winning Wrestlers Entertainment\n",
    "\n",
    "In this activity you will be taking four separate csvs that were scraped down from a wrestling database, merging them together, and then creating charts to visualize a wrestler's wins and losses over the course of four years.\n",
    "\n",
    "### Part 1 - Macho Merging\n",
    "\n",
    "* You will likely need to perform three different merges over the course of this activity, changing the names of your columns as you go along."
   ]
  },
  {
   "cell_type": "code",
   "execution_count": null,
   "metadata": {},
   "outputs": [],
   "source": [
    "import matplotlib.pyplot as plt\n",
    "import pandas as pd\n",
    "import numpy as np"
   ]
  },
  {
   "cell_type": "code",
   "execution_count": null,
   "metadata": {},
   "outputs": [],
   "source": [
    "# Take in all of our wrestling data and read it into pandas\n",
    "wrestling_2013 = \"../Resources/WWE-Data-2013.csv\"\n",
    "wrestling_2014 = \"../Resources/WWE-Data-2014.csv\"\n",
    "wrestling_2015 = \"../Resources/WWE-Data-2015.csv\"\n",
    "wrestling_2016 = \"../Resources/WWE-Data-2016.csv\"\n",
    "\n",
    "wrestlers_2013_df = pd.read_csv(wrestling_2013)\n",
    "wrestlers_2014_df = pd.read_csv(wrestling_2014)\n",
    "wrestlers_2015_df = pd.read_csv(wrestling_2015)\n",
    "wrestlers_2016_df = pd.read_csv(wrestling_2016)"
   ]
  },
  {
   "cell_type": "code",
   "execution_count": null,
   "metadata": {},
   "outputs": [],
   "source": [
    "# Merge the first two datasets on \"Wrestler\" so that no data is lost (should be 182 rows)\n",
    "combined_wrestlers_df = pd.merge(wrestlers_2013_df, wrestlers_2014_df, how='outer', on='Wrestler')\n",
    "combined_wrestlers_df"
   ]
  },
  {
   "cell_type": "code",
   "execution_count": null,
   "metadata": {},
   "outputs": [],
   "source": [
    "# Rename our _x columns to \"2013 Wins\", \"2013 Losses\", and \"2013 Draws\"\n",
    "combined_wrestlers_df = combined_wrestlers_df.rename(columns={\"Wins_x\":\"2013 Wins\", \"Losses_x\":\"2013 Losses\", \"Draws_x\":\"2013 Draws\"})\n",
    "\n",
    "# Rename our _y columns to \"2014 Wins\", \"2014 Losses\", and \"2014 Draws\"\n",
    "combined_wrestlers_df = combined_wrestlers_df.rename(columns={\"Wins_y\":\"2014 Wins\",\"Losses_y\":\"2014 Losses\",\"Draws_y\":\"2014 Draws\"})\n",
    "\n",
    "combined_wrestlers_df.head()"
   ]
  },
  {
   "cell_type": "code",
   "execution_count": null,
   "metadata": {},
   "outputs": [],
   "source": [
    "# Merge our newly combined dataframe with the 2015 dataframe\n",
    "combined_wrestlers_df = pd.merge(combined_wrestlers_df, wrestlers_2015_df, how=\"outer\", on=\"Wrestler\")\n",
    "combined_wrestlers_df"
   ]
  },
  {
   "cell_type": "code",
   "execution_count": null,
   "metadata": {},
   "outputs": [],
   "source": [
    "# Rename \"wins\", \"losses\", and \"draws\" to \"2015 Wins\", \"2015 Losses\", and \"2015 Draws\"\n",
    "combined_wrestlers_df = combined_wrestlers_df.rename(columns={\"Wins\":\"2015 Wins\",\"Losses\":\"2015 Losses\",\"Draws\":\"2015 Draws\"})\n",
    "\n",
    "combined_wrestlers_df.head()"
   ]
  },
  {
   "cell_type": "code",
   "execution_count": null,
   "metadata": {},
   "outputs": [],
   "source": [
    "# Merge our newly combined dataframe with the 2016 dataframe\n",
    "combined_wrestlers_df = pd.merge(combined_wrestlers_df, wrestlers_2016_df, how=\"outer\", on=\"Wrestler\")\n",
    "combined_wrestlers_df"
   ]
  },
  {
   "cell_type": "code",
   "execution_count": null,
   "metadata": {
    "scrolled": true
   },
   "outputs": [],
   "source": [
    "# Rename \"wins\", \"losses\", and \"draws\" to \"2016 Wins\", \"2016 Losses\", and \"2016 Draws\"\n",
    "combined_wrestlers_df = combined_wrestlers_df.rename(columns={\"Wins\":\"2016 Wins\",\"Losses\":\"2016 Losses\",\"Draws\":\"2016 Draws\"})\n",
    "\n",
    "combined_wrestlers_df.head()"
   ]
  },
  {
   "cell_type": "markdown",
   "metadata": {},
   "source": [
    "### Part 2 - Time to Calculate!\n",
    "\n",
    "* When your tables have been merged together into one data frame, calculate the total number of wins, losses, and draws a wrestler has had over the course of their career. Also create a new column that will hold the total matches a wrestler has been in over the course of their career.\n",
    "    * You will need to convert all NaN values to a number so that you can perform these calculations\n",
    "\n",
    "* We are only interested in those wrestlers who have been with the WWE from 2013 to 2016. You will need to come up with some way of filtering out rows that do not meet these conditions.\n",
    "    * Also set the 'Wrestler' column as your key for easier referencing later on."
   ]
  },
  {
   "cell_type": "code",
   "execution_count": null,
   "metadata": {},
   "outputs": [],
   "source": [
    "# Replace all NaN values with 0 \n",
    "combined_wrestlers_df = ???\n",
    "\n",
    "# Create a new column called \"Total Wins\" and add up each wrestler's wins per year to fill in the values\n",
    "\n",
    "# Create a new column called \"Total Losses\" and add up each wrestler's losses per year to fill in the values\n",
    "\n",
    "# Create a new column called \"Total Draws\" and add up each wrestler's draws per year to fill in the values\n",
    "\n",
    "# Create a new column called \"Total Matches\" and add up the total wins, losses, and draws for each wrestler to fill in the values\n",
    "\n",
    "combined_wrestlers_df"
   ]
  },
  {
   "cell_type": "code",
   "execution_count": null,
   "metadata": {},
   "outputs": [],
   "source": [
    "# Create a new dataframe for those wrestlers who have wrestled at least 100 matches,\n",
    "# have at least one win in 2013,\n",
    "# and have at least one win in 2016\n",
    "wrestled_over_hundred = ???\n",
    "\n",
    "# Set the index of this new dataframe to be the wrestlers names\n",
    "wrestled_over_hundred = ???\n",
    "\n",
    "wrestled_over_hundred.head()"
   ]
  }
 ],
 "metadata": {
  "kernelspec": {
   "display_name": "Python 3",
   "language": "python",
   "name": "python3"
  },
  "language_info": {
   "codemirror_mode": {
    "name": "ipython",
    "version": 3
   },
   "file_extension": ".py",
   "mimetype": "text/x-python",
   "name": "python",
   "nbconvert_exporter": "python",
   "pygments_lexer": "ipython3",
   "version": "3.6.9"
  }
 },
 "nbformat": 4,
 "nbformat_minor": 2
}
