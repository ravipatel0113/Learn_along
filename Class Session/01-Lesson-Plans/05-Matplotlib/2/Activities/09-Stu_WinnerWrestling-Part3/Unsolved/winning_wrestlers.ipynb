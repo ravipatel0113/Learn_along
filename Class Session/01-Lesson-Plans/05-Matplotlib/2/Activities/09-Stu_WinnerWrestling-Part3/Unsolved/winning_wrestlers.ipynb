{
 "cells": [
  {
   "cell_type": "markdown",
   "metadata": {},
   "source": [
    "# Winning Wrestlers Entertainment\n",
    "\n",
    "In this activity you will be taking four separate csvs that were scraped down from a wrestling database, merging them together, and then creating charts to visualize a wrestler's wins and losses over the course of four years.\n",
    "\n",
    "### Part 1 - Macho Merging\n",
    "\n",
    "* You will likely need to perform three different merges over the course of this activity, changing the names of your columns as you go along."
   ]
  },
  {
   "cell_type": "code",
   "execution_count": null,
   "metadata": {},
   "outputs": [],
   "source": [
    "%matplotlib notebook"
   ]
  },
  {
   "cell_type": "code",
   "execution_count": null,
   "metadata": {},
   "outputs": [],
   "source": [
    "import matplotlib.pyplot as plt\n",
    "import pandas as pd\n",
    "import numpy as np"
   ]
  },
  {
   "cell_type": "code",
   "execution_count": null,
   "metadata": {},
   "outputs": [],
   "source": [
    "# Take in all of our wrestling data and read it into pandas\n",
    "wrestling_2013 = \"../Resources/WWE-Data-2013.csv\"\n",
    "wrestling_2014 = \"../Resources/WWE-Data-2014.csv\"\n",
    "wrestling_2015 = \"../Resources/WWE-Data-2015.csv\"\n",
    "wrestling_2016 = \"../Resources/WWE-Data-2016.csv\"\n",
    "\n",
    "wrestlers_2013_df = pd.read_csv(wrestling_2013)\n",
    "wrestlers_2014_df = pd.read_csv(wrestling_2014)\n",
    "wrestlers_2015_df = pd.read_csv(wrestling_2015)\n",
    "wrestlers_2016_df = pd.read_csv(wrestling_2016)"
   ]
  },
  {
   "cell_type": "code",
   "execution_count": null,
   "metadata": {},
   "outputs": [],
   "source": [
    "# Merge the first two datasets on \"Wrestler\" so that no data is lost (should be 182 rows)\n",
    "combined_wrestlers_df = pd.merge(wrestlers_2013_df, wrestlers_2014_df, how='outer', on='Wrestler')\n",
    "combined_wrestlers_df"
   ]
  },
  {
   "cell_type": "code",
   "execution_count": null,
   "metadata": {},
   "outputs": [],
   "source": [
    "# Rename our _x columns to \"2013 Wins\", \"2013 Losses\", and \"2013 Draws\"\n",
    "combined_wrestlers_df = combined_wrestlers_df.rename(columns={\"Wins_x\":\"2013 Wins\", \"Losses_x\":\"2013 Losses\", \"Draws_x\":\"2013 Draws\"})\n",
    "\n",
    "# Rename our _y columns to \"2014 Wins\", \"2014 Losses\", and \"2014 Draws\"\n",
    "combined_wrestlers_df = combined_wrestlers_df.rename(columns={\"Wins_y\":\"2014 Wins\",\"Losses_y\":\"2014 Losses\",\"Draws_y\":\"2014 Draws\"})\n",
    "\n",
    "combined_wrestlers_df.head()"
   ]
  },
  {
   "cell_type": "code",
   "execution_count": null,
   "metadata": {},
   "outputs": [],
   "source": [
    "# Merge our newly combined dataframe with the 2015 dataframe\n",
    "combined_wrestlers_df = pd.merge(combined_wrestlers_df, wrestlers_2015_df, how=\"outer\", on=\"Wrestler\")\n",
    "combined_wrestlers_df"
   ]
  },
  {
   "cell_type": "code",
   "execution_count": null,
   "metadata": {},
   "outputs": [],
   "source": [
    "# Rename \"wins\", \"losses\", and \"draws\" to \"2015 Wins\", \"2015 Losses\", and \"2015 Draws\"\n",
    "combined_wrestlers_df = combined_wrestlers_df.rename(columns={\"Wins\":\"2015 Wins\",\"Losses\":\"2015 Losses\",\"Draws\":\"2015 Draws\"})\n",
    "\n",
    "combined_wrestlers_df.head()"
   ]
  },
  {
   "cell_type": "code",
   "execution_count": null,
   "metadata": {},
   "outputs": [],
   "source": [
    "# Merge our newly combined dataframe with the 2016 dataframe\n",
    "combined_wrestlers_df = pd.merge(combined_wrestlers_df, wrestlers_2016_df, how=\"outer\", on=\"Wrestler\")\n",
    "combined_wrestlers_df"
   ]
  },
  {
   "cell_type": "code",
   "execution_count": null,
   "metadata": {},
   "outputs": [],
   "source": [
    "# Rename \"wins\", \"losses\", and \"draws\" to \"2016 Wins\", \"2016 Losses\", and \"2016 Draws\"\n",
    "combined_wrestlers_df = combined_wrestlers_df.rename(columns={\"Wins\":\"2016 Wins\",\"Losses\":\"2016 Losses\",\"Draws\":\"2016 Draws\"})\n",
    "\n",
    "combined_wrestlers_df.head()"
   ]
  },
  {
   "cell_type": "code",
   "execution_count": null,
   "metadata": {},
   "outputs": [],
   "source": [
    "# Replace all NaN values with 0 \n",
    "combined_wrestlers_df = combined_wrestlers_df.fillna(0)\n",
    "\n",
    "# Create a new column called \"Total Wins\" and add up each wrestler's wins per year to fill in the values\n",
    "combined_wrestlers_df[\"Total Wins\"] = combined_wrestlers_df[\"2013 Wins\"] + combined_wrestlers_df[\"2014 Wins\"] + combined_wrestlers_df[\"2015 Wins\"] + combined_wrestlers_df[\"2016 Wins\"]\n",
    "\n",
    "# Create a new column called \"Total Losses\" and add up each wrestler's losses per year to fill in the values\n",
    "combined_wrestlers_df[\"Total Losses\"] = combined_wrestlers_df[\"2013 Losses\"] + combined_wrestlers_df[\"2014 Losses\"] + combined_wrestlers_df[\"2015 Losses\"] + combined_wrestlers_df[\"2016 Losses\"]\n",
    "\n",
    "# Create a new column called \"Total Draws\" and add up each wrestler's draws per year to fill in the values\n",
    "combined_wrestlers_df[\"Total Draws\"] = combined_wrestlers_df[\"2013 Draws\"] + combined_wrestlers_df[\"2014 Draws\"] + combined_wrestlers_df[\"2015 Draws\"] + combined_wrestlers_df[\"2016 Draws\"]\n",
    "\n",
    "# Create a new column called \"Total Matches\" and add up the total wins, losses, and draws for each wrestler to fill in the values\n",
    "combined_wrestlers_df[\"Total Matches\"] = combined_wrestlers_df[\"Total Wins\"] + combined_wrestlers_df[\"Total Losses\"] + combined_wrestlers_df[\"Total Draws\"]\n",
    "\n",
    "combined_wrestlers_df"
   ]
  },
  {
   "cell_type": "code",
   "execution_count": null,
   "metadata": {
    "scrolled": true
   },
   "outputs": [],
   "source": [
    "# Create a new dataframe for those wrestlers who have wrestled at least 100 matches,\n",
    "# have at least one win in 2013,\n",
    "# and have at least one win in 2016\n",
    "wrestled_over_hundred = combined_wrestlers_df.loc[(combined_wrestlers_df[\"Total Matches\"] >= 100) &\n",
    "                                                 (combined_wrestlers_df[\"2013 Wins\"] > 0) &\n",
    "                                                 (combined_wrestlers_df[\"2016 Wins\"] > 0)]\n",
    "\n",
    "# Set the index of this new dataframe to be the wrestlers names\n",
    "wrestled_over_hundred = wrestled_over_hundred.set_index(\"Wrestler\")\n",
    "\n",
    "wrestled_over_hundred.head()"
   ]
  },
  {
   "cell_type": "markdown",
   "metadata": {},
   "source": [
    "### Part 3 - Charting Careers\n",
    "\n",
    "* Create a variable and an input that asks the user what wrestler they would like to look for. \n",
    "\n",
    "* Store an individual wrestler's wins over time in a variable\n",
    "\n",
    "* Store that same wrestler's losses over time in a variable as well\n",
    "\n",
    "* Create a line chart that will plot this wrestler's wins and losses from 2013 to 2016"
   ]
  },
  {
   "cell_type": "code",
   "execution_count": null,
   "metadata": {},
   "outputs": [],
   "source": [
    "# Collect the user's input to search through our data frame\n",
    "wrestler_name = ???"
   ]
  },
  {
   "cell_type": "code",
   "execution_count": null,
   "metadata": {},
   "outputs": [],
   "source": [
    "# Create a series that looks for a wrestler by name and then traces their wins from 2013 to 2016\n",
    "wins_over_time = ???\n",
    "\n",
    "# Create a series that looks for a wrestler by name and then traces their losses from 2013 to 2016\n",
    "losses_over_time = ???"
   ]
  },
  {
   "cell_type": "code",
   "execution_count": null,
   "metadata": {
    "scrolled": false
   },
   "outputs": [],
   "source": [
    "# Create a list of the years that we will use as our x axis\n",
    "years = ???\n",
    "\n",
    "# Plot our line that will be used to track a wrestler's wins over the years\n",
    "\n",
    "\n",
    "# Plot our line that will be used to track a wrestler's losses over the years\n",
    "\n",
    "\n",
    "# Place a legend on the chart in what matplotlib believes to be the \"best\" location\n",
    "\n",
    "\n",
    "plt.title(wrestler_name + \"'s Recent Career\")\n",
    "plt.xlabel(\"Years\")\n",
    "plt.xticks(np.arange(min(years), max(years)+1, 1.0))\n",
    "plt.ylabel(\"Number of Wins/Losses\")\n",
    "\n",
    "# Print our chart to the screen\n",
    "plt.show()"
   ]
  },
  {
   "cell_type": "code",
   "execution_count": null,
   "metadata": {},
   "outputs": [],
   "source": []
  }
 ],
 "metadata": {
  "kernelspec": {
   "display_name": "Python 3",
   "language": "python",
   "name": "python3"
  },
  "language_info": {
   "codemirror_mode": {
    "name": "ipython",
    "version": 3
   },
   "file_extension": ".py",
   "mimetype": "text/x-python",
   "name": "python",
   "nbconvert_exporter": "python",
   "pygments_lexer": "ipython3",
   "version": "3.6.9"
  }
 },
 "nbformat": 4,
 "nbformat_minor": 2
}
