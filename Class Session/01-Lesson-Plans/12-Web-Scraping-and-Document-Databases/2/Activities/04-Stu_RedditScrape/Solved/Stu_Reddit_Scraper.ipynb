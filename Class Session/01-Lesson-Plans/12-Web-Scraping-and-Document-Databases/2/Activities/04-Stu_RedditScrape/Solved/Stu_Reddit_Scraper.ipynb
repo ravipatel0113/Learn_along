{
 "cells": [
  {
   "cell_type": "code",
   "execution_count": null,
   "metadata": {},
   "outputs": [],
   "source": [
    "# Dependencies\n",
    "from bs4 import BeautifulSoup\n",
    "import requests\n",
    "import os"
   ]
  },
  {
   "cell_type": "code",
   "execution_count": null,
   "metadata": {},
   "outputs": [],
   "source": [
    "filepath = os.path.join(\"Programmer-Humor.html\")\n",
    "with open(filepath, encoding='utf-8') as file:\n",
    "    html = file.read()"
   ]
  },
  {
   "cell_type": "code",
   "execution_count": null,
   "metadata": {},
   "outputs": [],
   "source": [
    "# Create BeautifulSoup object; parse with 'html.parser'\n",
    "soup = BeautifulSoup(html, 'html.parser')"
   ]
  },
  {
   "cell_type": "code",
   "execution_count": null,
   "metadata": {},
   "outputs": [],
   "source": [
    "soup"
   ]
  },
  {
   "cell_type": "code",
   "execution_count": null,
   "metadata": {},
   "outputs": [],
   "source": [
    "# Examine the results and look for a div withe the class 'top-matter'\n",
    "results = soup.find_all('div', class_='top-matter')"
   ]
  },
  {
   "cell_type": "code",
   "execution_count": null,
   "metadata": {},
   "outputs": [],
   "source": [
    "# Loop through returned results\n",
    "for result in results:\n",
    "    \n",
    "    # Retrieve the thread title\n",
    "    title = result.find('p', class_='title')\n",
    "    \n",
    "    \n",
    "    # Access the thread's text content\n",
    "    title_text = title.a.text\n",
    "#     print(title_text)\n",
    "\n",
    "    try:\n",
    "        # Access the thread with CSS selectors\n",
    "        thread = result.find('li', class_='first')    \n",
    "\n",
    "        # The number of comments made in the thread\n",
    "        comments = thread.text.lstrip()\n",
    "\n",
    "        # Parse string, e.g. '47 comments' for possible numeric manipulation\n",
    "        comments_num = int(comments.split()[0])\n",
    "\n",
    "        # Access the href attribute with bracket notation\n",
    "        link = thread.a['href']\n",
    "\n",
    "        # Run if the thread has 20 or more comments\n",
    "        if (comments_num >=20 ):\n",
    "            print('\\n-----------------\\n')\n",
    "            print(title_text)\n",
    "            print('Comments:', comments_num)\n",
    "            print(link)\n",
    "    except AttributeError as e:\n",
    "        print(e)"
   ]
  },
  {
   "cell_type": "code",
   "execution_count": null,
   "metadata": {},
   "outputs": [],
   "source": [
    "# BONUS\n",
    "# Try to scrape the site using the URL\n",
    "url = 'https://www.reddit.com/r/ProgrammingHumor/'\n",
    "\n",
    "# Retrieve page with the requests module\n",
    "html = requests.get(url)"
   ]
  },
  {
   "cell_type": "code",
   "execution_count": null,
   "metadata": {},
   "outputs": [],
   "source": [
    "# Create BeautifulSoup object; parse with 'html.parser'\n",
    "soup = BeautifulSoup(html.text, 'html.parser')"
   ]
  },
  {
   "cell_type": "code",
   "execution_count": null,
   "metadata": {},
   "outputs": [],
   "source": [
    "# Display how different this HTML looks\n",
    "soup"
   ]
  },
  {
   "cell_type": "code",
   "execution_count": null,
   "metadata": {},
   "outputs": [],
   "source": []
  }
 ],
 "metadata": {
  "kernelspec": {
   "display_name": "Python 3.6.9 64-bit ('PythonData': conda)",
   "language": "python",
   "name": "python36964bitpythondataconda7438fb61b4864fa0849d4ebd12397bf0"
  },
  "language_info": {
   "codemirror_mode": {
    "name": "ipython",
    "version": 3
   },
   "file_extension": ".py",
   "mimetype": "text/x-python",
   "name": "python",
   "nbconvert_exporter": "python",
   "pygments_lexer": "ipython3",
   "version": "3.6.9"
  },
  "varInspector": {
   "cols": {
    "lenName": 16,
    "lenType": 16,
    "lenVar": 40
   },
   "kernels_config": {
    "python": {
     "delete_cmd_postfix": "",
     "delete_cmd_prefix": "del ",
     "library": "var_list.py",
     "varRefreshCmd": "print(var_dic_list())"
    },
    "r": {
     "delete_cmd_postfix": ") ",
     "delete_cmd_prefix": "rm(",
     "library": "var_list.r",
     "varRefreshCmd": "cat(var_dic_list()) "
    }
   },
   "types_to_exclude": [
    "module",
    "function",
    "builtin_function_or_method",
    "instance",
    "_Feature"
   ],
   "window_display": false
  }
 },
 "nbformat": 4,
 "nbformat_minor": 2
}
